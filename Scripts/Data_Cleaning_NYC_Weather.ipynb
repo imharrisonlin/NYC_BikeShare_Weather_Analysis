{
 "metadata": {
  "language_info": {
   "codemirror_mode": {
    "name": "ipython",
    "version": 3
   },
   "file_extension": ".py",
   "mimetype": "text/x-python",
   "name": "python",
   "nbconvert_exporter": "python",
   "pygments_lexer": "ipython3",
   "version": "3.8.5"
  },
  "orig_nbformat": 2,
  "kernelspec": {
   "name": "python385jvsc74a57bd00b389477ccc7535f93e4369920499466da4ad4c9225913346a61f818b9483721",
   "display_name": "Python 3.8.5 64-bit ('base': conda)"
  }
 },
 "nbformat": 4,
 "nbformat_minor": 2,
 "cells": [
  {
   "source": [
    "# Cleaning NYC Weather Data to populate google cloud sql (postgresm)"
   ],
   "cell_type": "markdown",
   "metadata": {}
  },
  {
   "cell_type": "code",
   "execution_count": 1,
   "metadata": {},
   "outputs": [],
   "source": [
    "import pandas as pd\n",
    "import numpy as np"
   ]
  },
  {
   "source": [
    "weather_df = pd.read_csv('../Datasets/NYC Weather Raw.csv')"
   ],
   "cell_type": "code",
   "metadata": {},
   "execution_count": 3,
   "outputs": [
    {
     "output_type": "stream",
     "name": "stderr",
     "text": [
      "C:\\Users\\imhar\\anaconda3\\lib\\site-packages\\IPython\\core\\interactiveshell.py:3146: DtypeWarning: Columns (5,7,8,11,14,30,31,33,41,42,43,49,51,75,89,123) have mixed types.Specify dtype option on import or set low_memory=False.\n  has_raised = await self.run_ast_nodes(code_ast.body, cell_name,\n"
     ]
    }
   ]
  },
  {
   "cell_type": "code",
   "execution_count": 4,
   "metadata": {},
   "outputs": [
    {
     "output_type": "execute_result",
     "data": {
      "text/plain": [
       "       STATION                DATE REPORT_TYPE  SOURCE  AWND BackupDirection  \\\n",
       "0  72505394728 2013-01-01 00:51:00       FM-15       7   NaN             ESE   \n",
       "1  72505394728 2013-01-01 01:51:00       FM-15       7   NaN             ESE   \n",
       "2  72505394728 2013-01-01 02:51:00       FM-15       7   NaN             ESE   \n",
       "3  72505394728 2013-01-01 03:51:00       FM-15       7   NaN             ESE   \n",
       "4  72505394728 2013-01-01 04:51:00       FM-15       7   NaN             ESE   \n",
       "\n",
       "   BackupDistance BackupDistanceUnit BackupElements  BackupElevation  ...  \\\n",
       "0             0.5                 mi           SNOW              NaN  ...   \n",
       "1             0.5                 mi           SNOW              NaN  ...   \n",
       "2             0.5                 mi           SNOW              NaN  ...   \n",
       "3             0.5                 mi           SNOW              NaN  ...   \n",
       "4             0.5                 mi           SNOW              NaN  ...   \n",
       "\n",
       "   ShortDurationPrecipitationValue060 ShortDurationPrecipitationValue080  \\\n",
       "0                                 NaN                                NaN   \n",
       "1                                 NaN                                NaN   \n",
       "2                                 NaN                                NaN   \n",
       "3                                 NaN                                NaN   \n",
       "4                                 NaN                                NaN   \n",
       "\n",
       "   ShortDurationPrecipitationValue100  ShortDurationPrecipitationValue120  \\\n",
       "0                                 NaN                                 NaN   \n",
       "1                                 NaN                                 NaN   \n",
       "2                                 NaN                                 NaN   \n",
       "3                                 NaN                                 NaN   \n",
       "4                                 NaN                                 NaN   \n",
       "\n",
       "  ShortDurationPrecipitationValue150  ShortDurationPrecipitationValue180  \\\n",
       "0                                NaN                                 NaN   \n",
       "1                                NaN                                 NaN   \n",
       "2                                NaN                                 NaN   \n",
       "3                                NaN                                 NaN   \n",
       "4                                NaN                                 NaN   \n",
       "\n",
       "   Sunrise  Sunset  TStorms  WindEquipmentChangeDate  \n",
       "0      NaN     NaN      NaN               2006-09-18  \n",
       "1      NaN     NaN      NaN               2006-09-18  \n",
       "2      NaN     NaN      NaN               2006-09-18  \n",
       "3      NaN     NaN      NaN               2006-09-18  \n",
       "4      NaN     NaN      NaN               2006-09-18  \n",
       "\n",
       "[5 rows x 124 columns]"
      ],
      "text/html": "<div>\n<style scoped>\n    .dataframe tbody tr th:only-of-type {\n        vertical-align: middle;\n    }\n\n    .dataframe tbody tr th {\n        vertical-align: top;\n    }\n\n    .dataframe thead th {\n        text-align: right;\n    }\n</style>\n<table border=\"1\" class=\"dataframe\">\n  <thead>\n    <tr style=\"text-align: right;\">\n      <th></th>\n      <th>STATION</th>\n      <th>DATE</th>\n      <th>REPORT_TYPE</th>\n      <th>SOURCE</th>\n      <th>AWND</th>\n      <th>BackupDirection</th>\n      <th>BackupDistance</th>\n      <th>BackupDistanceUnit</th>\n      <th>BackupElements</th>\n      <th>BackupElevation</th>\n      <th>...</th>\n      <th>ShortDurationPrecipitationValue060</th>\n      <th>ShortDurationPrecipitationValue080</th>\n      <th>ShortDurationPrecipitationValue100</th>\n      <th>ShortDurationPrecipitationValue120</th>\n      <th>ShortDurationPrecipitationValue150</th>\n      <th>ShortDurationPrecipitationValue180</th>\n      <th>Sunrise</th>\n      <th>Sunset</th>\n      <th>TStorms</th>\n      <th>WindEquipmentChangeDate</th>\n    </tr>\n  </thead>\n  <tbody>\n    <tr>\n      <th>0</th>\n      <td>72505394728</td>\n      <td>2013-01-01 00:51:00</td>\n      <td>FM-15</td>\n      <td>7</td>\n      <td>NaN</td>\n      <td>ESE</td>\n      <td>0.5</td>\n      <td>mi</td>\n      <td>SNOW</td>\n      <td>NaN</td>\n      <td>...</td>\n      <td>NaN</td>\n      <td>NaN</td>\n      <td>NaN</td>\n      <td>NaN</td>\n      <td>NaN</td>\n      <td>NaN</td>\n      <td>NaN</td>\n      <td>NaN</td>\n      <td>NaN</td>\n      <td>2006-09-18</td>\n    </tr>\n    <tr>\n      <th>1</th>\n      <td>72505394728</td>\n      <td>2013-01-01 01:51:00</td>\n      <td>FM-15</td>\n      <td>7</td>\n      <td>NaN</td>\n      <td>ESE</td>\n      <td>0.5</td>\n      <td>mi</td>\n      <td>SNOW</td>\n      <td>NaN</td>\n      <td>...</td>\n      <td>NaN</td>\n      <td>NaN</td>\n      <td>NaN</td>\n      <td>NaN</td>\n      <td>NaN</td>\n      <td>NaN</td>\n      <td>NaN</td>\n      <td>NaN</td>\n      <td>NaN</td>\n      <td>2006-09-18</td>\n    </tr>\n    <tr>\n      <th>2</th>\n      <td>72505394728</td>\n      <td>2013-01-01 02:51:00</td>\n      <td>FM-15</td>\n      <td>7</td>\n      <td>NaN</td>\n      <td>ESE</td>\n      <td>0.5</td>\n      <td>mi</td>\n      <td>SNOW</td>\n      <td>NaN</td>\n      <td>...</td>\n      <td>NaN</td>\n      <td>NaN</td>\n      <td>NaN</td>\n      <td>NaN</td>\n      <td>NaN</td>\n      <td>NaN</td>\n      <td>NaN</td>\n      <td>NaN</td>\n      <td>NaN</td>\n      <td>2006-09-18</td>\n    </tr>\n    <tr>\n      <th>3</th>\n      <td>72505394728</td>\n      <td>2013-01-01 03:51:00</td>\n      <td>FM-15</td>\n      <td>7</td>\n      <td>NaN</td>\n      <td>ESE</td>\n      <td>0.5</td>\n      <td>mi</td>\n      <td>SNOW</td>\n      <td>NaN</td>\n      <td>...</td>\n      <td>NaN</td>\n      <td>NaN</td>\n      <td>NaN</td>\n      <td>NaN</td>\n      <td>NaN</td>\n      <td>NaN</td>\n      <td>NaN</td>\n      <td>NaN</td>\n      <td>NaN</td>\n      <td>2006-09-18</td>\n    </tr>\n    <tr>\n      <th>4</th>\n      <td>72505394728</td>\n      <td>2013-01-01 04:51:00</td>\n      <td>FM-15</td>\n      <td>7</td>\n      <td>NaN</td>\n      <td>ESE</td>\n      <td>0.5</td>\n      <td>mi</td>\n      <td>SNOW</td>\n      <td>NaN</td>\n      <td>...</td>\n      <td>NaN</td>\n      <td>NaN</td>\n      <td>NaN</td>\n      <td>NaN</td>\n      <td>NaN</td>\n      <td>NaN</td>\n      <td>NaN</td>\n      <td>NaN</td>\n      <td>NaN</td>\n      <td>2006-09-18</td>\n    </tr>\n  </tbody>\n</table>\n<p>5 rows × 124 columns</p>\n</div>"
     },
     "metadata": {},
     "execution_count": 4
    }
   ],
   "source": [
    "weather_df['DATE'] = pd.to_datetime(weather_df['DATE'])\n",
    "weather_df.head()"
   ]
  },
  {
   "cell_type": "code",
   "execution_count": 5,
   "metadata": {},
   "outputs": [
    {
     "output_type": "execute_result",
     "data": {
      "text/plain": [
       "           STATION                DATE REPORT_TYPE  SOURCE  AWND  \\\n",
       "57038  72505394728 2018-01-01 00:51:00       FM-15       7   NaN   \n",
       "57039  72505394728 2018-01-01 01:51:00       FM-15       7   NaN   \n",
       "57040  72505394728 2018-01-01 02:51:00       FM-15       7   NaN   \n",
       "57041  72505394728 2018-01-01 03:51:00       FM-15       7   NaN   \n",
       "57042  72505394728 2018-01-01 04:51:00       FM-15       7   NaN   \n",
       "\n",
       "      BackupDirection  BackupDistance BackupDistanceUnit BackupElements  \\\n",
       "57038             NaN             NaN                NaN            NaN   \n",
       "57039             NaN             NaN                NaN            NaN   \n",
       "57040             NaN             NaN                NaN            NaN   \n",
       "57041             NaN             NaN                NaN            NaN   \n",
       "57042             NaN             NaN                NaN            NaN   \n",
       "\n",
       "       BackupElevation  ...  ShortDurationPrecipitationValue060  \\\n",
       "57038              NaN  ...                                 NaN   \n",
       "57039              NaN  ...                                 NaN   \n",
       "57040              NaN  ...                                 NaN   \n",
       "57041              NaN  ...                                 NaN   \n",
       "57042              NaN  ...                                 NaN   \n",
       "\n",
       "      ShortDurationPrecipitationValue080  ShortDurationPrecipitationValue100  \\\n",
       "57038                                NaN                                 NaN   \n",
       "57039                                NaN                                 NaN   \n",
       "57040                                NaN                                 NaN   \n",
       "57041                                NaN                                 NaN   \n",
       "57042                                NaN                                 NaN   \n",
       "\n",
       "       ShortDurationPrecipitationValue120 ShortDurationPrecipitationValue150  \\\n",
       "57038                                 NaN                                NaN   \n",
       "57039                                 NaN                                NaN   \n",
       "57040                                 NaN                                NaN   \n",
       "57041                                 NaN                                NaN   \n",
       "57042                                 NaN                                NaN   \n",
       "\n",
       "       ShortDurationPrecipitationValue180  Sunrise  Sunset  TStorms  \\\n",
       "57038                                 NaN      NaN     NaN      NaN   \n",
       "57039                                 NaN      NaN     NaN      NaN   \n",
       "57040                                 NaN      NaN     NaN      NaN   \n",
       "57041                                 NaN      NaN     NaN      NaN   \n",
       "57042                                 NaN      NaN     NaN      NaN   \n",
       "\n",
       "       WindEquipmentChangeDate  \n",
       "57038                      NaN  \n",
       "57039                      NaN  \n",
       "57040                      NaN  \n",
       "57041                      NaN  \n",
       "57042                      NaN  \n",
       "\n",
       "[5 rows x 124 columns]"
      ],
      "text/html": "<div>\n<style scoped>\n    .dataframe tbody tr th:only-of-type {\n        vertical-align: middle;\n    }\n\n    .dataframe tbody tr th {\n        vertical-align: top;\n    }\n\n    .dataframe thead th {\n        text-align: right;\n    }\n</style>\n<table border=\"1\" class=\"dataframe\">\n  <thead>\n    <tr style=\"text-align: right;\">\n      <th></th>\n      <th>STATION</th>\n      <th>DATE</th>\n      <th>REPORT_TYPE</th>\n      <th>SOURCE</th>\n      <th>AWND</th>\n      <th>BackupDirection</th>\n      <th>BackupDistance</th>\n      <th>BackupDistanceUnit</th>\n      <th>BackupElements</th>\n      <th>BackupElevation</th>\n      <th>...</th>\n      <th>ShortDurationPrecipitationValue060</th>\n      <th>ShortDurationPrecipitationValue080</th>\n      <th>ShortDurationPrecipitationValue100</th>\n      <th>ShortDurationPrecipitationValue120</th>\n      <th>ShortDurationPrecipitationValue150</th>\n      <th>ShortDurationPrecipitationValue180</th>\n      <th>Sunrise</th>\n      <th>Sunset</th>\n      <th>TStorms</th>\n      <th>WindEquipmentChangeDate</th>\n    </tr>\n  </thead>\n  <tbody>\n    <tr>\n      <th>57038</th>\n      <td>72505394728</td>\n      <td>2018-01-01 00:51:00</td>\n      <td>FM-15</td>\n      <td>7</td>\n      <td>NaN</td>\n      <td>NaN</td>\n      <td>NaN</td>\n      <td>NaN</td>\n      <td>NaN</td>\n      <td>NaN</td>\n      <td>...</td>\n      <td>NaN</td>\n      <td>NaN</td>\n      <td>NaN</td>\n      <td>NaN</td>\n      <td>NaN</td>\n      <td>NaN</td>\n      <td>NaN</td>\n      <td>NaN</td>\n      <td>NaN</td>\n      <td>NaN</td>\n    </tr>\n    <tr>\n      <th>57039</th>\n      <td>72505394728</td>\n      <td>2018-01-01 01:51:00</td>\n      <td>FM-15</td>\n      <td>7</td>\n      <td>NaN</td>\n      <td>NaN</td>\n      <td>NaN</td>\n      <td>NaN</td>\n      <td>NaN</td>\n      <td>NaN</td>\n      <td>...</td>\n      <td>NaN</td>\n      <td>NaN</td>\n      <td>NaN</td>\n      <td>NaN</td>\n      <td>NaN</td>\n      <td>NaN</td>\n      <td>NaN</td>\n      <td>NaN</td>\n      <td>NaN</td>\n      <td>NaN</td>\n    </tr>\n    <tr>\n      <th>57040</th>\n      <td>72505394728</td>\n      <td>2018-01-01 02:51:00</td>\n      <td>FM-15</td>\n      <td>7</td>\n      <td>NaN</td>\n      <td>NaN</td>\n      <td>NaN</td>\n      <td>NaN</td>\n      <td>NaN</td>\n      <td>NaN</td>\n      <td>...</td>\n      <td>NaN</td>\n      <td>NaN</td>\n      <td>NaN</td>\n      <td>NaN</td>\n      <td>NaN</td>\n      <td>NaN</td>\n      <td>NaN</td>\n      <td>NaN</td>\n      <td>NaN</td>\n      <td>NaN</td>\n    </tr>\n    <tr>\n      <th>57041</th>\n      <td>72505394728</td>\n      <td>2018-01-01 03:51:00</td>\n      <td>FM-15</td>\n      <td>7</td>\n      <td>NaN</td>\n      <td>NaN</td>\n      <td>NaN</td>\n      <td>NaN</td>\n      <td>NaN</td>\n      <td>NaN</td>\n      <td>...</td>\n      <td>NaN</td>\n      <td>NaN</td>\n      <td>NaN</td>\n      <td>NaN</td>\n      <td>NaN</td>\n      <td>NaN</td>\n      <td>NaN</td>\n      <td>NaN</td>\n      <td>NaN</td>\n      <td>NaN</td>\n    </tr>\n    <tr>\n      <th>57042</th>\n      <td>72505394728</td>\n      <td>2018-01-01 04:51:00</td>\n      <td>FM-15</td>\n      <td>7</td>\n      <td>NaN</td>\n      <td>NaN</td>\n      <td>NaN</td>\n      <td>NaN</td>\n      <td>NaN</td>\n      <td>NaN</td>\n      <td>...</td>\n      <td>NaN</td>\n      <td>NaN</td>\n      <td>NaN</td>\n      <td>NaN</td>\n      <td>NaN</td>\n      <td>NaN</td>\n      <td>NaN</td>\n      <td>NaN</td>\n      <td>NaN</td>\n      <td>NaN</td>\n    </tr>\n  </tbody>\n</table>\n<p>5 rows × 124 columns</p>\n</div>"
     },
     "metadata": {},
     "execution_count": 5
    }
   ],
   "source": [
    "weather_2018_df = weather_df[(weather_df['DATE'] >= '2018-01-01') & (weather_df['DATE'] < '2018-06-01')]\n",
    "weather_2018_df.head()"
   ]
  },
  {
   "cell_type": "code",
   "execution_count": 6,
   "metadata": {},
   "outputs": [
    {
     "output_type": "execute_result",
     "data": {
      "text/plain": [
       "                     Date H_PresentWeatherType H_SkyConditions  \\\n",
       "57038 2018-01-01 00:51:00                  NaN          CLR:00   \n",
       "57039 2018-01-01 01:51:00                  NaN          CLR:00   \n",
       "57040 2018-01-01 02:51:00                  NaN          CLR:00   \n",
       "57041 2018-01-01 03:51:00                  NaN          CLR:00   \n",
       "57042 2018-01-01 04:51:00                  NaN          CLR:00   \n",
       "...                   ...                  ...             ...   \n",
       "62146 2018-05-31 21:51:00              BR:1 ||        OVC:08 3   \n",
       "62147 2018-05-31 22:51:00              BR:1 ||        OVC:08 3   \n",
       "62148 2018-05-31 23:51:00              BR:1 ||        OVC:08 2   \n",
       "62149 2018-05-31 23:59:00                  NaN             NaN   \n",
       "62150 2018-05-31 23:59:00                  NaN             NaN   \n",
       "\n",
       "      H_DryBulbTemperature H_DewPointTemperature  H_WetBulbTemperature  \\\n",
       "57038                    9                    -4                   7.0   \n",
       "57039                    9                    -4                   7.0   \n",
       "57040                    8                    -4                   6.0   \n",
       "57041                    8                    -5                   6.0   \n",
       "57042                    8                    -5                   6.0   \n",
       "...                    ...                   ...                   ...   \n",
       "62146                   65                    64                  64.0   \n",
       "62147                   66                    64                  65.0   \n",
       "62148                   65                    64                  64.0   \n",
       "62149                  NaN                   NaN                   NaN   \n",
       "62150                  NaN                   NaN                   NaN   \n",
       "\n",
       "      H_Precipitation  H_RelativeHumidity H_Visibility  H_WindSpeed  Sunrise  \\\n",
       "57038            0.00                55.0        10.00          9.0      NaN   \n",
       "57039            0.00                55.0        10.00         10.0      NaN   \n",
       "57040            0.00                57.0        10.00         10.0      NaN   \n",
       "57041            0.00                55.0        10.00          7.0      NaN   \n",
       "57042            0.00                55.0        10.00          9.0      NaN   \n",
       "...               ...                 ...          ...          ...      ...   \n",
       "62146            0.00                97.0         3.00          0.0      NaN   \n",
       "62147            0.00                93.0         3.00          0.0      NaN   \n",
       "62148            0.00                97.0         3.00          0.0      NaN   \n",
       "62149             NaN                 NaN          NaN          NaN    427.0   \n",
       "62150             NaN                 NaN          NaN          NaN      NaN   \n",
       "\n",
       "       Sunset  \n",
       "57038     NaN  \n",
       "57039     NaN  \n",
       "57040     NaN  \n",
       "57041     NaN  \n",
       "57042     NaN  \n",
       "...       ...  \n",
       "62146     NaN  \n",
       "62147     NaN  \n",
       "62148     NaN  \n",
       "62149  1920.0  \n",
       "62150     NaN  \n",
       "\n",
       "[5113 rows x 12 columns]"
      ],
      "text/html": "<div>\n<style scoped>\n    .dataframe tbody tr th:only-of-type {\n        vertical-align: middle;\n    }\n\n    .dataframe tbody tr th {\n        vertical-align: top;\n    }\n\n    .dataframe thead th {\n        text-align: right;\n    }\n</style>\n<table border=\"1\" class=\"dataframe\">\n  <thead>\n    <tr style=\"text-align: right;\">\n      <th></th>\n      <th>Date</th>\n      <th>H_PresentWeatherType</th>\n      <th>H_SkyConditions</th>\n      <th>H_DryBulbTemperature</th>\n      <th>H_DewPointTemperature</th>\n      <th>H_WetBulbTemperature</th>\n      <th>H_Precipitation</th>\n      <th>H_RelativeHumidity</th>\n      <th>H_Visibility</th>\n      <th>H_WindSpeed</th>\n      <th>Sunrise</th>\n      <th>Sunset</th>\n    </tr>\n  </thead>\n  <tbody>\n    <tr>\n      <th>57038</th>\n      <td>2018-01-01 00:51:00</td>\n      <td>NaN</td>\n      <td>CLR:00</td>\n      <td>9</td>\n      <td>-4</td>\n      <td>7.0</td>\n      <td>0.00</td>\n      <td>55.0</td>\n      <td>10.00</td>\n      <td>9.0</td>\n      <td>NaN</td>\n      <td>NaN</td>\n    </tr>\n    <tr>\n      <th>57039</th>\n      <td>2018-01-01 01:51:00</td>\n      <td>NaN</td>\n      <td>CLR:00</td>\n      <td>9</td>\n      <td>-4</td>\n      <td>7.0</td>\n      <td>0.00</td>\n      <td>55.0</td>\n      <td>10.00</td>\n      <td>10.0</td>\n      <td>NaN</td>\n      <td>NaN</td>\n    </tr>\n    <tr>\n      <th>57040</th>\n      <td>2018-01-01 02:51:00</td>\n      <td>NaN</td>\n      <td>CLR:00</td>\n      <td>8</td>\n      <td>-4</td>\n      <td>6.0</td>\n      <td>0.00</td>\n      <td>57.0</td>\n      <td>10.00</td>\n      <td>10.0</td>\n      <td>NaN</td>\n      <td>NaN</td>\n    </tr>\n    <tr>\n      <th>57041</th>\n      <td>2018-01-01 03:51:00</td>\n      <td>NaN</td>\n      <td>CLR:00</td>\n      <td>8</td>\n      <td>-5</td>\n      <td>6.0</td>\n      <td>0.00</td>\n      <td>55.0</td>\n      <td>10.00</td>\n      <td>7.0</td>\n      <td>NaN</td>\n      <td>NaN</td>\n    </tr>\n    <tr>\n      <th>57042</th>\n      <td>2018-01-01 04:51:00</td>\n      <td>NaN</td>\n      <td>CLR:00</td>\n      <td>8</td>\n      <td>-5</td>\n      <td>6.0</td>\n      <td>0.00</td>\n      <td>55.0</td>\n      <td>10.00</td>\n      <td>9.0</td>\n      <td>NaN</td>\n      <td>NaN</td>\n    </tr>\n    <tr>\n      <th>...</th>\n      <td>...</td>\n      <td>...</td>\n      <td>...</td>\n      <td>...</td>\n      <td>...</td>\n      <td>...</td>\n      <td>...</td>\n      <td>...</td>\n      <td>...</td>\n      <td>...</td>\n      <td>...</td>\n      <td>...</td>\n    </tr>\n    <tr>\n      <th>62146</th>\n      <td>2018-05-31 21:51:00</td>\n      <td>BR:1 ||</td>\n      <td>OVC:08 3</td>\n      <td>65</td>\n      <td>64</td>\n      <td>64.0</td>\n      <td>0.00</td>\n      <td>97.0</td>\n      <td>3.00</td>\n      <td>0.0</td>\n      <td>NaN</td>\n      <td>NaN</td>\n    </tr>\n    <tr>\n      <th>62147</th>\n      <td>2018-05-31 22:51:00</td>\n      <td>BR:1 ||</td>\n      <td>OVC:08 3</td>\n      <td>66</td>\n      <td>64</td>\n      <td>65.0</td>\n      <td>0.00</td>\n      <td>93.0</td>\n      <td>3.00</td>\n      <td>0.0</td>\n      <td>NaN</td>\n      <td>NaN</td>\n    </tr>\n    <tr>\n      <th>62148</th>\n      <td>2018-05-31 23:51:00</td>\n      <td>BR:1 ||</td>\n      <td>OVC:08 2</td>\n      <td>65</td>\n      <td>64</td>\n      <td>64.0</td>\n      <td>0.00</td>\n      <td>97.0</td>\n      <td>3.00</td>\n      <td>0.0</td>\n      <td>NaN</td>\n      <td>NaN</td>\n    </tr>\n    <tr>\n      <th>62149</th>\n      <td>2018-05-31 23:59:00</td>\n      <td>NaN</td>\n      <td>NaN</td>\n      <td>NaN</td>\n      <td>NaN</td>\n      <td>NaN</td>\n      <td>NaN</td>\n      <td>NaN</td>\n      <td>NaN</td>\n      <td>NaN</td>\n      <td>427.0</td>\n      <td>1920.0</td>\n    </tr>\n    <tr>\n      <th>62150</th>\n      <td>2018-05-31 23:59:00</td>\n      <td>NaN</td>\n      <td>NaN</td>\n      <td>NaN</td>\n      <td>NaN</td>\n      <td>NaN</td>\n      <td>NaN</td>\n      <td>NaN</td>\n      <td>NaN</td>\n      <td>NaN</td>\n      <td>NaN</td>\n      <td>NaN</td>\n    </tr>\n  </tbody>\n</table>\n<p>5113 rows × 12 columns</p>\n</div>"
     },
     "metadata": {},
     "execution_count": 6
    }
   ],
   "source": [
    "# Get desired columns\n",
    "new_cols = {\n",
    "    'DATE': 'Date',\n",
    "    'HourlyPresentWeatherType': 'H_PresentWeatherType',\n",
    "    'HourlySkyConditions': 'H_SkyConditions',\n",
    "    'HourlyDryBulbTemperature': 'H_DryBulbTemperature',\n",
    "    'HourlyDewPointTemperature': 'H_DewPointTemperature',\n",
    "    'HourlyWetBulbTemperature': 'H_WetBulbTemperature',\n",
    "    'HourlyPrecipitation': 'H_Precipitation',\n",
    "    'HourlyRelativeHumidity': 'H_RelativeHumidity',\n",
    "    'HourlyVisibility': 'H_Visibility',\n",
    "    'HourlyWindSpeed': 'H_WindSpeed',\n",
    "    'Sunrise': 'Sunrise',\n",
    "    'Sunset': 'Sunset',\n",
    "}\n",
    "cols = list(new_cols.keys())\n",
    "weather_2018_df = weather_2018_df[cols]\n",
    "weather_2018_df.rename(new_cols,axis=1,inplace=True)\n",
    "weather_2018_df"
   ]
  },
  {
   "cell_type": "code",
   "execution_count": 7,
   "metadata": {},
   "outputs": [
    {
     "output_type": "execute_result",
     "data": {
      "text/plain": [
       "['Date',\n",
       " 'H_PresentWeatherType',\n",
       " 'H_SkyConditions',\n",
       " 'H_DryBulbTemperature',\n",
       " 'H_DewPointTemperature',\n",
       " 'H_WetBulbTemperature',\n",
       " 'H_Precipitation',\n",
       " 'H_RelativeHumidity',\n",
       " 'H_Visibility',\n",
       " 'H_WindSpeed',\n",
       " 'Sunrise',\n",
       " 'Sunset']"
      ]
     },
     "metadata": {},
     "execution_count": 7
    }
   ],
   "source": [
    "list(new_cols.values())"
   ]
  },
  {
   "cell_type": "code",
   "execution_count": 8,
   "metadata": {},
   "outputs": [
    {
     "output_type": "stream",
     "name": "stdout",
     "text": [
      "<class 'pandas.core.frame.DataFrame'>\nInt64Index: 5113 entries, 57038 to 62150\nData columns (total 12 columns):\n #   Column                 Non-Null Count  Dtype         \n---  ------                 --------------  -----         \n 0   Date                   5113 non-null   datetime64[ns]\n 1   H_PresentWeatherType   1661 non-null   object        \n 2   H_SkyConditions        4930 non-null   object        \n 3   H_DryBulbTemperature   4957 non-null   object        \n 4   H_DewPointTemperature  4957 non-null   object        \n 5   H_WetBulbTemperature   4952 non-null   float64       \n 6   H_Precipitation        4294 non-null   object        \n 7   H_RelativeHumidity     4957 non-null   float64       \n 8   H_Visibility           4957 non-null   object        \n 9   H_WindSpeed            4743 non-null   float64       \n 10  Sunrise                151 non-null    float64       \n 11  Sunset                 151 non-null    float64       \ndtypes: datetime64[ns](1), float64(5), object(6)\nmemory usage: 519.3+ KB\n"
     ]
    }
   ],
   "source": [
    "weather_2018_df.info()"
   ]
  },
  {
   "source": [
    "## Cleaning up non-float values"
   ],
   "cell_type": "markdown",
   "metadata": {}
  },
  {
   "cell_type": "code",
   "execution_count": 9,
   "metadata": {},
   "outputs": [
    {
     "output_type": "execute_result",
     "data": {
      "text/plain": [
       "                     Date H_PresentWeatherType                H_SkyConditions  \\\n",
       "58543 2018-02-14 02:51:00                  NaN            BKN:07 35 BKN:07 43   \n",
       "57340 2018-01-11 22:51:00                  NaN            SCT:04 29 OVC:08 34   \n",
       "57707 2018-01-22 01:51:00                  NaN            BKN:07 50 OVC:08 60   \n",
       "58723 2018-02-19 06:51:00                  NaN                         CLR:00   \n",
       "61242 2018-05-07 14:51:00                  NaN            FEW:02 75 SCT:04 90   \n",
       "57757 2018-01-23 08:00:00              BR:1 ||                       OVC:08 5   \n",
       "58011 2018-01-31 09:51:00                  NaN                         CLR:00   \n",
       "59962 2018-03-28 16:51:00                  NaN            FEW:02 55 OVC:08 70   \n",
       "61164 2018-05-04 17:51:00                  NaN                     FEW:02 120   \n",
       "61965 2018-05-27 09:51:00              BR:1 ||                       OVC:08 6   \n",
       "59581 2018-03-15 15:51:00                  NaN                      BKN:07 70   \n",
       "59958 2018-03-28 12:51:00                  NaN                      OVC:08 80   \n",
       "58024 2018-01-31 22:51:00                  NaN                         CLR:00   \n",
       "57638 2018-01-19 09:51:00                  NaN                         CLR:00   \n",
       "59482 2018-03-12 23:29:00         -RA:02 |RA |             BKN:07 8 OVC:08 13   \n",
       "59956 2018-03-28 11:24:00                  NaN            SCT:04 17 BKN:07 36   \n",
       "57960 2018-01-30 05:18:00    -SN:03 BR:1 |SN |             SCT:04 7 OVC:08 20   \n",
       "57101 2018-01-03 13:51:00                  NaN                         CLR:00   \n",
       "61118 2018-05-02 22:51:00                  NaN                         CLR:00   \n",
       "59135 2018-03-02 07:08:00    -RA:02 BR:1 |RA |  FEW:02 11 SCT:04 14 OVC:08 30   \n",
       "\n",
       "      H_DryBulbTemperature H_DewPointTemperature  H_WetBulbTemperature  \\\n",
       "58543                   36                    28                  33.0   \n",
       "57340                   51                    48                  49.0   \n",
       "57707                   45                    37                  41.0   \n",
       "58723                   40                    30                  36.0   \n",
       "61242                   75                    46                  59.0   \n",
       "57757                   51                    50                  50.0   \n",
       "58011                   21                     3                  17.0   \n",
       "59962                   51                    40                  46.0   \n",
       "61164                   82                    60                  68.0   \n",
       "61965                   61                    60                  60.0   \n",
       "59581                   45                    18                  35.0   \n",
       "59958                   48                    38                  43.0   \n",
       "58024                   32                    16                  27.0   \n",
       "57638                   31                    13                  25.0   \n",
       "59482                   35                    33                  34.0   \n",
       "59956                   46                    37                  42.0   \n",
       "57960                   30                    28                  29.0   \n",
       "57101                   29                     0                  22.0   \n",
       "61118                   78                    41                  58.0   \n",
       "59135                   37                    35                  36.0   \n",
       "\n",
       "      H_Precipitation  H_RelativeHumidity H_Visibility  H_WindSpeed  Sunrise  \\\n",
       "58543            0.00                73.0        10.00          3.0      NaN   \n",
       "57340            0.00                89.0        10.00          3.0      NaN   \n",
       "57707               T                74.0        10.00          3.0      NaN   \n",
       "58723            0.00                68.0        10.00          0.0      NaN   \n",
       "61242            0.00                36.0        10.00          6.0      NaN   \n",
       "57757             NaN                96.0         4.00          7.0      NaN   \n",
       "58011            0.00                45.0        10.00          0.0      NaN   \n",
       "59962            0.00                66.0         8.00          5.0      NaN   \n",
       "61164            0.00                47.0        10.00          0.0      NaN   \n",
       "61965               T                97.0         4.00          7.0      NaN   \n",
       "59581            0.00                34.0        10.00          6.0      NaN   \n",
       "59958            0.00                68.0         9.00          6.0      NaN   \n",
       "58024            0.00                52.0        10.00         14.0      NaN   \n",
       "57638            0.00                47.0        10.00          5.0      NaN   \n",
       "59482            0.01                93.0         8.00          7.0      NaN   \n",
       "59956             NaN                71.0         9.00          0.0      NaN   \n",
       "57960               T                92.0         1.25          NaN      NaN   \n",
       "57101            0.00                28.0        10.00          3.0      NaN   \n",
       "61118            0.00                27.0        10.00          3.0      NaN   \n",
       "59135            0.01                93.0         5.00         14.0      NaN   \n",
       "\n",
       "       Sunset  \n",
       "58543     NaN  \n",
       "57340     NaN  \n",
       "57707     NaN  \n",
       "58723     NaN  \n",
       "61242     NaN  \n",
       "57757     NaN  \n",
       "58011     NaN  \n",
       "59962     NaN  \n",
       "61164     NaN  \n",
       "61965     NaN  \n",
       "59581     NaN  \n",
       "59958     NaN  \n",
       "58024     NaN  \n",
       "57638     NaN  \n",
       "59482     NaN  \n",
       "59956     NaN  \n",
       "57960     NaN  \n",
       "57101     NaN  \n",
       "61118     NaN  \n",
       "59135     NaN  "
      ],
      "text/html": "<div>\n<style scoped>\n    .dataframe tbody tr th:only-of-type {\n        vertical-align: middle;\n    }\n\n    .dataframe tbody tr th {\n        vertical-align: top;\n    }\n\n    .dataframe thead th {\n        text-align: right;\n    }\n</style>\n<table border=\"1\" class=\"dataframe\">\n  <thead>\n    <tr style=\"text-align: right;\">\n      <th></th>\n      <th>Date</th>\n      <th>H_PresentWeatherType</th>\n      <th>H_SkyConditions</th>\n      <th>H_DryBulbTemperature</th>\n      <th>H_DewPointTemperature</th>\n      <th>H_WetBulbTemperature</th>\n      <th>H_Precipitation</th>\n      <th>H_RelativeHumidity</th>\n      <th>H_Visibility</th>\n      <th>H_WindSpeed</th>\n      <th>Sunrise</th>\n      <th>Sunset</th>\n    </tr>\n  </thead>\n  <tbody>\n    <tr>\n      <th>58543</th>\n      <td>2018-02-14 02:51:00</td>\n      <td>NaN</td>\n      <td>BKN:07 35 BKN:07 43</td>\n      <td>36</td>\n      <td>28</td>\n      <td>33.0</td>\n      <td>0.00</td>\n      <td>73.0</td>\n      <td>10.00</td>\n      <td>3.0</td>\n      <td>NaN</td>\n      <td>NaN</td>\n    </tr>\n    <tr>\n      <th>57340</th>\n      <td>2018-01-11 22:51:00</td>\n      <td>NaN</td>\n      <td>SCT:04 29 OVC:08 34</td>\n      <td>51</td>\n      <td>48</td>\n      <td>49.0</td>\n      <td>0.00</td>\n      <td>89.0</td>\n      <td>10.00</td>\n      <td>3.0</td>\n      <td>NaN</td>\n      <td>NaN</td>\n    </tr>\n    <tr>\n      <th>57707</th>\n      <td>2018-01-22 01:51:00</td>\n      <td>NaN</td>\n      <td>BKN:07 50 OVC:08 60</td>\n      <td>45</td>\n      <td>37</td>\n      <td>41.0</td>\n      <td>T</td>\n      <td>74.0</td>\n      <td>10.00</td>\n      <td>3.0</td>\n      <td>NaN</td>\n      <td>NaN</td>\n    </tr>\n    <tr>\n      <th>58723</th>\n      <td>2018-02-19 06:51:00</td>\n      <td>NaN</td>\n      <td>CLR:00</td>\n      <td>40</td>\n      <td>30</td>\n      <td>36.0</td>\n      <td>0.00</td>\n      <td>68.0</td>\n      <td>10.00</td>\n      <td>0.0</td>\n      <td>NaN</td>\n      <td>NaN</td>\n    </tr>\n    <tr>\n      <th>61242</th>\n      <td>2018-05-07 14:51:00</td>\n      <td>NaN</td>\n      <td>FEW:02 75 SCT:04 90</td>\n      <td>75</td>\n      <td>46</td>\n      <td>59.0</td>\n      <td>0.00</td>\n      <td>36.0</td>\n      <td>10.00</td>\n      <td>6.0</td>\n      <td>NaN</td>\n      <td>NaN</td>\n    </tr>\n    <tr>\n      <th>57757</th>\n      <td>2018-01-23 08:00:00</td>\n      <td>BR:1 ||</td>\n      <td>OVC:08 5</td>\n      <td>51</td>\n      <td>50</td>\n      <td>50.0</td>\n      <td>NaN</td>\n      <td>96.0</td>\n      <td>4.00</td>\n      <td>7.0</td>\n      <td>NaN</td>\n      <td>NaN</td>\n    </tr>\n    <tr>\n      <th>58011</th>\n      <td>2018-01-31 09:51:00</td>\n      <td>NaN</td>\n      <td>CLR:00</td>\n      <td>21</td>\n      <td>3</td>\n      <td>17.0</td>\n      <td>0.00</td>\n      <td>45.0</td>\n      <td>10.00</td>\n      <td>0.0</td>\n      <td>NaN</td>\n      <td>NaN</td>\n    </tr>\n    <tr>\n      <th>59962</th>\n      <td>2018-03-28 16:51:00</td>\n      <td>NaN</td>\n      <td>FEW:02 55 OVC:08 70</td>\n      <td>51</td>\n      <td>40</td>\n      <td>46.0</td>\n      <td>0.00</td>\n      <td>66.0</td>\n      <td>8.00</td>\n      <td>5.0</td>\n      <td>NaN</td>\n      <td>NaN</td>\n    </tr>\n    <tr>\n      <th>61164</th>\n      <td>2018-05-04 17:51:00</td>\n      <td>NaN</td>\n      <td>FEW:02 120</td>\n      <td>82</td>\n      <td>60</td>\n      <td>68.0</td>\n      <td>0.00</td>\n      <td>47.0</td>\n      <td>10.00</td>\n      <td>0.0</td>\n      <td>NaN</td>\n      <td>NaN</td>\n    </tr>\n    <tr>\n      <th>61965</th>\n      <td>2018-05-27 09:51:00</td>\n      <td>BR:1 ||</td>\n      <td>OVC:08 6</td>\n      <td>61</td>\n      <td>60</td>\n      <td>60.0</td>\n      <td>T</td>\n      <td>97.0</td>\n      <td>4.00</td>\n      <td>7.0</td>\n      <td>NaN</td>\n      <td>NaN</td>\n    </tr>\n    <tr>\n      <th>59581</th>\n      <td>2018-03-15 15:51:00</td>\n      <td>NaN</td>\n      <td>BKN:07 70</td>\n      <td>45</td>\n      <td>18</td>\n      <td>35.0</td>\n      <td>0.00</td>\n      <td>34.0</td>\n      <td>10.00</td>\n      <td>6.0</td>\n      <td>NaN</td>\n      <td>NaN</td>\n    </tr>\n    <tr>\n      <th>59958</th>\n      <td>2018-03-28 12:51:00</td>\n      <td>NaN</td>\n      <td>OVC:08 80</td>\n      <td>48</td>\n      <td>38</td>\n      <td>43.0</td>\n      <td>0.00</td>\n      <td>68.0</td>\n      <td>9.00</td>\n      <td>6.0</td>\n      <td>NaN</td>\n      <td>NaN</td>\n    </tr>\n    <tr>\n      <th>58024</th>\n      <td>2018-01-31 22:51:00</td>\n      <td>NaN</td>\n      <td>CLR:00</td>\n      <td>32</td>\n      <td>16</td>\n      <td>27.0</td>\n      <td>0.00</td>\n      <td>52.0</td>\n      <td>10.00</td>\n      <td>14.0</td>\n      <td>NaN</td>\n      <td>NaN</td>\n    </tr>\n    <tr>\n      <th>57638</th>\n      <td>2018-01-19 09:51:00</td>\n      <td>NaN</td>\n      <td>CLR:00</td>\n      <td>31</td>\n      <td>13</td>\n      <td>25.0</td>\n      <td>0.00</td>\n      <td>47.0</td>\n      <td>10.00</td>\n      <td>5.0</td>\n      <td>NaN</td>\n      <td>NaN</td>\n    </tr>\n    <tr>\n      <th>59482</th>\n      <td>2018-03-12 23:29:00</td>\n      <td>-RA:02 |RA |</td>\n      <td>BKN:07 8 OVC:08 13</td>\n      <td>35</td>\n      <td>33</td>\n      <td>34.0</td>\n      <td>0.01</td>\n      <td>93.0</td>\n      <td>8.00</td>\n      <td>7.0</td>\n      <td>NaN</td>\n      <td>NaN</td>\n    </tr>\n    <tr>\n      <th>59956</th>\n      <td>2018-03-28 11:24:00</td>\n      <td>NaN</td>\n      <td>SCT:04 17 BKN:07 36</td>\n      <td>46</td>\n      <td>37</td>\n      <td>42.0</td>\n      <td>NaN</td>\n      <td>71.0</td>\n      <td>9.00</td>\n      <td>0.0</td>\n      <td>NaN</td>\n      <td>NaN</td>\n    </tr>\n    <tr>\n      <th>57960</th>\n      <td>2018-01-30 05:18:00</td>\n      <td>-SN:03 BR:1 |SN |</td>\n      <td>SCT:04 7 OVC:08 20</td>\n      <td>30</td>\n      <td>28</td>\n      <td>29.0</td>\n      <td>T</td>\n      <td>92.0</td>\n      <td>1.25</td>\n      <td>NaN</td>\n      <td>NaN</td>\n      <td>NaN</td>\n    </tr>\n    <tr>\n      <th>57101</th>\n      <td>2018-01-03 13:51:00</td>\n      <td>NaN</td>\n      <td>CLR:00</td>\n      <td>29</td>\n      <td>0</td>\n      <td>22.0</td>\n      <td>0.00</td>\n      <td>28.0</td>\n      <td>10.00</td>\n      <td>3.0</td>\n      <td>NaN</td>\n      <td>NaN</td>\n    </tr>\n    <tr>\n      <th>61118</th>\n      <td>2018-05-02 22:51:00</td>\n      <td>NaN</td>\n      <td>CLR:00</td>\n      <td>78</td>\n      <td>41</td>\n      <td>58.0</td>\n      <td>0.00</td>\n      <td>27.0</td>\n      <td>10.00</td>\n      <td>3.0</td>\n      <td>NaN</td>\n      <td>NaN</td>\n    </tr>\n    <tr>\n      <th>59135</th>\n      <td>2018-03-02 07:08:00</td>\n      <td>-RA:02 BR:1 |RA |</td>\n      <td>FEW:02 11 SCT:04 14 OVC:08 30</td>\n      <td>37</td>\n      <td>35</td>\n      <td>36.0</td>\n      <td>0.01</td>\n      <td>93.0</td>\n      <td>5.00</td>\n      <td>14.0</td>\n      <td>NaN</td>\n      <td>NaN</td>\n    </tr>\n  </tbody>\n</table>\n</div>"
     },
     "metadata": {},
     "execution_count": 9
    }
   ],
   "source": [
    "weather_2018_df.sample(20)"
   ]
  },
  {
   "cell_type": "code",
   "execution_count": 10,
   "metadata": {},
   "outputs": [
    {
     "output_type": "stream",
     "name": "stdout",
     "text": [
      "<class 'pandas.core.frame.DataFrame'>\nInt64Index: 5113 entries, 57038 to 62150\nData columns (total 12 columns):\n #   Column                 Non-Null Count  Dtype         \n---  ------                 --------------  -----         \n 0   Date                   5113 non-null   datetime64[ns]\n 1   H_PresentWeatherType   1661 non-null   object        \n 2   H_SkyConditions        4930 non-null   object        \n 3   H_DryBulbTemperature   4957 non-null   object        \n 4   H_DewPointTemperature  4957 non-null   object        \n 5   H_WetBulbTemperature   4952 non-null   float64       \n 6   H_Precipitation        4294 non-null   object        \n 7   H_RelativeHumidity     4957 non-null   float64       \n 8   H_Visibility           4957 non-null   object        \n 9   H_WindSpeed            4743 non-null   float64       \n 10  Sunrise                151 non-null    float64       \n 11  Sunset                 151 non-null    float64       \ndtypes: datetime64[ns](1), float64(5), object(6)\nmemory usage: 519.3+ KB\n"
     ]
    }
   ],
   "source": [
    "weather_2018_df.info()"
   ]
  },
  {
   "cell_type": "code",
   "execution_count": 11,
   "metadata": {},
   "outputs": [],
   "source": [
    "T = {'T': '0.005'}"
   ]
  },
  {
   "cell_type": "code",
   "execution_count": 12,
   "metadata": {},
   "outputs": [],
   "source": [
    "def check_str(x):\n",
    "    try:\n",
    "        float(x)\n",
    "    except:\n",
    "        return x"
   ]
  },
  {
   "cell_type": "code",
   "execution_count": 13,
   "metadata": {},
   "outputs": [],
   "source": [
    "def temp_func(x):\n",
    "    try:\n",
    "        float(x)\n",
    "        return x\n",
    "    except:    \n",
    "        if x == 'T':\n",
    "            return '0.005' \n",
    "        if x[-1] == 's':\n",
    "            return x[:-1]"
   ]
  },
  {
   "cell_type": "code",
   "execution_count": 14,
   "metadata": {},
   "outputs": [],
   "source": [
    "clean_col = 'H_Precipitation'\n",
    "copy_df = weather_2018_df.copy()\n",
    "# copy[clean_col].fillna('0',inplace=True)\n",
    "# copy[clean_col] = copy[clean_col].apply(temp_func)\n",
    "# copy[clean_col] = copy[clean_col].astype('float64')\n",
    "# copy[clean_col].unique()"
   ]
  },
  {
   "cell_type": "code",
   "execution_count": 18,
   "metadata": {},
   "outputs": [
    {
     "output_type": "stream",
     "name": "stdout",
     "text": [
      "H_DryBulbTemperature\n[9.0 8.0 7.0 11.0 12.0 14.0 15.0 17.0 18.0 16.0 13.0 21.0 23.0 25.0 26.0\n 24.0 22.0 20.0 19.0 27.0 29.0 28.0 10.0 6.0 5.0 30.0 31.0 33.0 34.0 37.0\n 40.0 42.0 43.0 41.0 39.0 36.0 35.0 32.0 38.0 44.0 45.0 47.0 50.0 51.0\n 53.0 49.0 46.0 52.0 '49' '48' '47' '46' '45' '44' '52' '57' '59' '58'\n '56' '55' '60' '61' '54' '53' '51' '36' '35' '30' '28' '29' '32' '33'\n '31' '25' '24' '23' '22' '21' '20' '19' '17' '16' '15' '18' '26' '27'\n '34' '37' '38' '39' '40' '41' '42' '43' '50' '63' '65' '66' '67' '64'\n '62' '72' '74' '75' '77' '78' '73' '69' '80' '81' '82' '68' '71' '70'\n '76' '79' '83' '85' '87' '88' '89' '84' '90' '92' '91' '86']\nH_DewPointTemperature\n[ -4.  -5.  -3.  -6.  -2.   0.   2.   3.   1.   4.   5.   6.   7.  -1.\n  11.  12.   8.   9.  13.  18.  19.  20.  21.  17.  16.  14.  10.  -7.\n  -8.  -9. -10. -12. -13. -11.  22.  23.  24.  25.  26.  27.  28.  30.\n  31.  32.  33.  34.  36.  37.  35.  39.  43.  42.  44.  41.  46.  47.\n  48.  49.  45.  50.  56.  57.  55.  54.  53.  58.  59.  60.  52.  40.\n  29.  15.  38.  51.  69.  66.  65.  68.  64.  63.  62.  61.  67.]\nH_WetBulbTemperature\n[ 7.  6.  5.  8.  9. 11. 13. 12. 10. 15. 17. 19. 20. 21. 18. 16. 14. 22.\n 24. 23.  4.  3. 25. 26. 27. 28. 30. 31. 33. 34. 35. 32. 29. 36. 37. 38.\n 39. 40. 41. 43. 45. 47. 49. 46. 44. 48. 50. 51. 56. 58. 57. 55. 54. 59.\n 60. 53. 52. 42. 61. 62. 64. 65. 66. 63. 67. 68. 69. 70. 71. 73. 74. 72.\n 75.]\n"
     ]
    },
    {
     "output_type": "execute_result",
     "data": {
      "text/plain": [
       "                     Date H_PresentWeatherType H_SkyConditions  \\\n",
       "57038 2018-01-01 00:51:00                  NaN          CLR:00   \n",
       "57039 2018-01-01 01:51:00                  NaN          CLR:00   \n",
       "57040 2018-01-01 02:51:00                  NaN          CLR:00   \n",
       "57041 2018-01-01 03:51:00                  NaN          CLR:00   \n",
       "57042 2018-01-01 04:51:00                  NaN          CLR:00   \n",
       "\n",
       "       H_DryBulbTemperature  H_DewPointTemperature  H_WetBulbTemperature  \\\n",
       "57038                   9.0                   -4.0                   7.0   \n",
       "57039                   9.0                   -4.0                   7.0   \n",
       "57040                   8.0                   -4.0                   6.0   \n",
       "57041                   8.0                   -5.0                   6.0   \n",
       "57042                   8.0                   -5.0                   6.0   \n",
       "\n",
       "      H_Precipitation  H_RelativeHumidity H_Visibility  H_WindSpeed  Sunrise  \\\n",
       "57038            0.00                55.0        10.00          9.0      NaN   \n",
       "57039            0.00                55.0        10.00         10.0      NaN   \n",
       "57040            0.00                57.0        10.00         10.0      NaN   \n",
       "57041            0.00                55.0        10.00          7.0      NaN   \n",
       "57042            0.00                55.0        10.00          9.0      NaN   \n",
       "\n",
       "       Sunset  \n",
       "57038     NaN  \n",
       "57039     NaN  \n",
       "57040     NaN  \n",
       "57041     NaN  \n",
       "57042     NaN  "
      ],
      "text/html": "<div>\n<style scoped>\n    .dataframe tbody tr th:only-of-type {\n        vertical-align: middle;\n    }\n\n    .dataframe tbody tr th {\n        vertical-align: top;\n    }\n\n    .dataframe thead th {\n        text-align: right;\n    }\n</style>\n<table border=\"1\" class=\"dataframe\">\n  <thead>\n    <tr style=\"text-align: right;\">\n      <th></th>\n      <th>Date</th>\n      <th>H_PresentWeatherType</th>\n      <th>H_SkyConditions</th>\n      <th>H_DryBulbTemperature</th>\n      <th>H_DewPointTemperature</th>\n      <th>H_WetBulbTemperature</th>\n      <th>H_Precipitation</th>\n      <th>H_RelativeHumidity</th>\n      <th>H_Visibility</th>\n      <th>H_WindSpeed</th>\n      <th>Sunrise</th>\n      <th>Sunset</th>\n    </tr>\n  </thead>\n  <tbody>\n    <tr>\n      <th>57038</th>\n      <td>2018-01-01 00:51:00</td>\n      <td>NaN</td>\n      <td>CLR:00</td>\n      <td>9.0</td>\n      <td>-4.0</td>\n      <td>7.0</td>\n      <td>0.00</td>\n      <td>55.0</td>\n      <td>10.00</td>\n      <td>9.0</td>\n      <td>NaN</td>\n      <td>NaN</td>\n    </tr>\n    <tr>\n      <th>57039</th>\n      <td>2018-01-01 01:51:00</td>\n      <td>NaN</td>\n      <td>CLR:00</td>\n      <td>9.0</td>\n      <td>-4.0</td>\n      <td>7.0</td>\n      <td>0.00</td>\n      <td>55.0</td>\n      <td>10.00</td>\n      <td>10.0</td>\n      <td>NaN</td>\n      <td>NaN</td>\n    </tr>\n    <tr>\n      <th>57040</th>\n      <td>2018-01-01 02:51:00</td>\n      <td>NaN</td>\n      <td>CLR:00</td>\n      <td>8.0</td>\n      <td>-4.0</td>\n      <td>6.0</td>\n      <td>0.00</td>\n      <td>57.0</td>\n      <td>10.00</td>\n      <td>10.0</td>\n      <td>NaN</td>\n      <td>NaN</td>\n    </tr>\n    <tr>\n      <th>57041</th>\n      <td>2018-01-01 03:51:00</td>\n      <td>NaN</td>\n      <td>CLR:00</td>\n      <td>8.0</td>\n      <td>-5.0</td>\n      <td>6.0</td>\n      <td>0.00</td>\n      <td>55.0</td>\n      <td>10.00</td>\n      <td>7.0</td>\n      <td>NaN</td>\n      <td>NaN</td>\n    </tr>\n    <tr>\n      <th>57042</th>\n      <td>2018-01-01 04:51:00</td>\n      <td>NaN</td>\n      <td>CLR:00</td>\n      <td>8.0</td>\n      <td>-5.0</td>\n      <td>6.0</td>\n      <td>0.00</td>\n      <td>55.0</td>\n      <td>10.00</td>\n      <td>9.0</td>\n      <td>NaN</td>\n      <td>NaN</td>\n    </tr>\n  </tbody>\n</table>\n</div>"
     },
     "metadata": {},
     "execution_count": 18
    }
   ],
   "source": [
    "weather_2018_df = copy_df.copy()\n",
    "# clean H_DryBulbTemperature, H_DewPointTemperature\n",
    "# midnight values are nan, forward fill with last hour's temperature\n",
    "clean_col = ['H_DryBulbTemperature', 'H_DewPointTemperature', 'H_WetBulbTemperature']\n",
    "# weather_2018_df[weather_2018_df[clean_col].isnull() == True]\n",
    "for c in clean_col:\n",
    "    weather_2018_df[c] = weather_2018_df[c].fillna(method='ffill')\n",
    "    weather_2018_df[c] = weather_2018_df[c].apply(temp_func)\n",
    "    print(c)\n",
    "    print(weather_2018_df[c].unique())\n",
    "    for i in weather_2018_df[c].unique():\n",
    "        if check_str(i) != None:\n",
    "            print(i)\n",
    "    weather_2018_df[c] = weather_2018_df[c].astype('float64')\n",
    "weather_2018_df.head()"
   ]
  },
  {
   "cell_type": "code",
   "execution_count": 19,
   "metadata": {},
   "outputs": [],
   "source": [
    "# clean H_Precipitation\n",
    "clean_col = 'H_Precipitation'\n",
    "weather_2018_df[clean_col].unique()\n",
    "# weather_2018_df[weather_2018_df[clean_col].isnull() == True]\n",
    "weather_2018_df[clean_col].fillna('0',inplace=True)\n",
    "weather_2018_df[clean_col] = weather_2018_df[clean_col].apply(temp_func)\n",
    "weather_2018_df[clean_col] = weather_2018_df[clean_col].astype('float64')\n",
    "weather_2018_df[clean_col].unique()\n",
    "for i in weather_2018_df[clean_col].unique():\n",
    "    if check_str(i) != None:\n",
    "        print(i)"
   ]
  },
  {
   "cell_type": "code",
   "execution_count": 20,
   "metadata": {},
   "outputs": [
    {
     "output_type": "execute_result",
     "data": {
      "text/plain": [
       "                     Date H_PresentWeatherType H_SkyConditions  \\\n",
       "57038 2018-01-01 00:51:00                  NaN          CLR:00   \n",
       "57039 2018-01-01 01:51:00                  NaN          CLR:00   \n",
       "57040 2018-01-01 02:51:00                  NaN          CLR:00   \n",
       "57041 2018-01-01 03:51:00                  NaN          CLR:00   \n",
       "57042 2018-01-01 04:51:00                  NaN          CLR:00   \n",
       "...                   ...                  ...             ...   \n",
       "62146 2018-05-31 21:51:00              BR:1 ||        OVC:08 3   \n",
       "62147 2018-05-31 22:51:00              BR:1 ||        OVC:08 3   \n",
       "62148 2018-05-31 23:51:00              BR:1 ||        OVC:08 2   \n",
       "62149 2018-05-31 23:59:00                  NaN             NaN   \n",
       "62150 2018-05-31 23:59:00                  NaN             NaN   \n",
       "\n",
       "       H_DryBulbTemperature  H_DewPointTemperature  H_WetBulbTemperature  \\\n",
       "57038                   9.0                   -4.0                   7.0   \n",
       "57039                   9.0                   -4.0                   7.0   \n",
       "57040                   8.0                   -4.0                   6.0   \n",
       "57041                   8.0                   -5.0                   6.0   \n",
       "57042                   8.0                   -5.0                   6.0   \n",
       "...                     ...                    ...                   ...   \n",
       "62146                  65.0                   64.0                  64.0   \n",
       "62147                  66.0                   64.0                  65.0   \n",
       "62148                  65.0                   64.0                  64.0   \n",
       "62149                  65.0                   64.0                  64.0   \n",
       "62150                  65.0                   64.0                  64.0   \n",
       "\n",
       "       H_Precipitation  H_RelativeHumidity H_Visibility  H_WindSpeed  Sunrise  \\\n",
       "57038              0.0                55.0        10.00          9.0      NaN   \n",
       "57039              0.0                55.0        10.00         10.0      NaN   \n",
       "57040              0.0                57.0        10.00         10.0      NaN   \n",
       "57041              0.0                55.0        10.00          7.0      NaN   \n",
       "57042              0.0                55.0        10.00          9.0      NaN   \n",
       "...                ...                 ...          ...          ...      ...   \n",
       "62146              0.0                97.0         3.00          0.0      NaN   \n",
       "62147              0.0                93.0         3.00          0.0      NaN   \n",
       "62148              0.0                97.0         3.00          0.0      NaN   \n",
       "62149              0.0                 NaN          NaN          NaN    427.0   \n",
       "62150              0.0                 NaN          NaN          NaN      NaN   \n",
       "\n",
       "       Sunset  \n",
       "57038     NaN  \n",
       "57039     NaN  \n",
       "57040     NaN  \n",
       "57041     NaN  \n",
       "57042     NaN  \n",
       "...       ...  \n",
       "62146     NaN  \n",
       "62147     NaN  \n",
       "62148     NaN  \n",
       "62149  1920.0  \n",
       "62150     NaN  \n",
       "\n",
       "[5113 rows x 12 columns]"
      ],
      "text/html": "<div>\n<style scoped>\n    .dataframe tbody tr th:only-of-type {\n        vertical-align: middle;\n    }\n\n    .dataframe tbody tr th {\n        vertical-align: top;\n    }\n\n    .dataframe thead th {\n        text-align: right;\n    }\n</style>\n<table border=\"1\" class=\"dataframe\">\n  <thead>\n    <tr style=\"text-align: right;\">\n      <th></th>\n      <th>Date</th>\n      <th>H_PresentWeatherType</th>\n      <th>H_SkyConditions</th>\n      <th>H_DryBulbTemperature</th>\n      <th>H_DewPointTemperature</th>\n      <th>H_WetBulbTemperature</th>\n      <th>H_Precipitation</th>\n      <th>H_RelativeHumidity</th>\n      <th>H_Visibility</th>\n      <th>H_WindSpeed</th>\n      <th>Sunrise</th>\n      <th>Sunset</th>\n    </tr>\n  </thead>\n  <tbody>\n    <tr>\n      <th>57038</th>\n      <td>2018-01-01 00:51:00</td>\n      <td>NaN</td>\n      <td>CLR:00</td>\n      <td>9.0</td>\n      <td>-4.0</td>\n      <td>7.0</td>\n      <td>0.0</td>\n      <td>55.0</td>\n      <td>10.00</td>\n      <td>9.0</td>\n      <td>NaN</td>\n      <td>NaN</td>\n    </tr>\n    <tr>\n      <th>57039</th>\n      <td>2018-01-01 01:51:00</td>\n      <td>NaN</td>\n      <td>CLR:00</td>\n      <td>9.0</td>\n      <td>-4.0</td>\n      <td>7.0</td>\n      <td>0.0</td>\n      <td>55.0</td>\n      <td>10.00</td>\n      <td>10.0</td>\n      <td>NaN</td>\n      <td>NaN</td>\n    </tr>\n    <tr>\n      <th>57040</th>\n      <td>2018-01-01 02:51:00</td>\n      <td>NaN</td>\n      <td>CLR:00</td>\n      <td>8.0</td>\n      <td>-4.0</td>\n      <td>6.0</td>\n      <td>0.0</td>\n      <td>57.0</td>\n      <td>10.00</td>\n      <td>10.0</td>\n      <td>NaN</td>\n      <td>NaN</td>\n    </tr>\n    <tr>\n      <th>57041</th>\n      <td>2018-01-01 03:51:00</td>\n      <td>NaN</td>\n      <td>CLR:00</td>\n      <td>8.0</td>\n      <td>-5.0</td>\n      <td>6.0</td>\n      <td>0.0</td>\n      <td>55.0</td>\n      <td>10.00</td>\n      <td>7.0</td>\n      <td>NaN</td>\n      <td>NaN</td>\n    </tr>\n    <tr>\n      <th>57042</th>\n      <td>2018-01-01 04:51:00</td>\n      <td>NaN</td>\n      <td>CLR:00</td>\n      <td>8.0</td>\n      <td>-5.0</td>\n      <td>6.0</td>\n      <td>0.0</td>\n      <td>55.0</td>\n      <td>10.00</td>\n      <td>9.0</td>\n      <td>NaN</td>\n      <td>NaN</td>\n    </tr>\n    <tr>\n      <th>...</th>\n      <td>...</td>\n      <td>...</td>\n      <td>...</td>\n      <td>...</td>\n      <td>...</td>\n      <td>...</td>\n      <td>...</td>\n      <td>...</td>\n      <td>...</td>\n      <td>...</td>\n      <td>...</td>\n      <td>...</td>\n    </tr>\n    <tr>\n      <th>62146</th>\n      <td>2018-05-31 21:51:00</td>\n      <td>BR:1 ||</td>\n      <td>OVC:08 3</td>\n      <td>65.0</td>\n      <td>64.0</td>\n      <td>64.0</td>\n      <td>0.0</td>\n      <td>97.0</td>\n      <td>3.00</td>\n      <td>0.0</td>\n      <td>NaN</td>\n      <td>NaN</td>\n    </tr>\n    <tr>\n      <th>62147</th>\n      <td>2018-05-31 22:51:00</td>\n      <td>BR:1 ||</td>\n      <td>OVC:08 3</td>\n      <td>66.0</td>\n      <td>64.0</td>\n      <td>65.0</td>\n      <td>0.0</td>\n      <td>93.0</td>\n      <td>3.00</td>\n      <td>0.0</td>\n      <td>NaN</td>\n      <td>NaN</td>\n    </tr>\n    <tr>\n      <th>62148</th>\n      <td>2018-05-31 23:51:00</td>\n      <td>BR:1 ||</td>\n      <td>OVC:08 2</td>\n      <td>65.0</td>\n      <td>64.0</td>\n      <td>64.0</td>\n      <td>0.0</td>\n      <td>97.0</td>\n      <td>3.00</td>\n      <td>0.0</td>\n      <td>NaN</td>\n      <td>NaN</td>\n    </tr>\n    <tr>\n      <th>62149</th>\n      <td>2018-05-31 23:59:00</td>\n      <td>NaN</td>\n      <td>NaN</td>\n      <td>65.0</td>\n      <td>64.0</td>\n      <td>64.0</td>\n      <td>0.0</td>\n      <td>NaN</td>\n      <td>NaN</td>\n      <td>NaN</td>\n      <td>427.0</td>\n      <td>1920.0</td>\n    </tr>\n    <tr>\n      <th>62150</th>\n      <td>2018-05-31 23:59:00</td>\n      <td>NaN</td>\n      <td>NaN</td>\n      <td>65.0</td>\n      <td>64.0</td>\n      <td>64.0</td>\n      <td>0.0</td>\n      <td>NaN</td>\n      <td>NaN</td>\n      <td>NaN</td>\n      <td>NaN</td>\n      <td>NaN</td>\n    </tr>\n  </tbody>\n</table>\n<p>5113 rows × 12 columns</p>\n</div>"
     },
     "metadata": {},
     "execution_count": 20
    }
   ],
   "source": [
    "weather_2018_df"
   ]
  },
  {
   "cell_type": "code",
   "execution_count": 21,
   "metadata": {},
   "outputs": [
    {
     "output_type": "execute_result",
     "data": {
      "text/plain": [
       "array([ 55.,  57.,  60.,  53.,  48.,  44.,  40.,  37.,  35.,  34.,  39.,\n",
       "        43.,  47.,  54.,  59.,  56.,  62.,  61.,  58.,  50.,  42.,  46.,\n",
       "        52.,  51.,  49.,  45.,  41.,  28.,  31.,  32.,  75.,  81.,  84.,\n",
       "        86.,  89.,  92.,  93.,  88.,  77.,  72.,  69.,  38.,  36.,  33.,\n",
       "        66.,  70.,  67.,  68.,  73.,  76.,  79.,  71.,  74.,  83.,  90.,\n",
       "        97.,  96.,  94., 100.,  85.,  78.,  63.,  30.,  29.,  82.,  87.,\n",
       "        80.,  65.,  24.,  22.,  23.,  21.,  25.,  27.,  26.,  64.,  19.,\n",
       "        16.,  15.,  20.,  18.,  17.,  14.,  13.,  12.,  91.])"
      ]
     },
     "metadata": {},
     "execution_count": 21
    }
   ],
   "source": [
    "# clean H_Precipitation\n",
    "clean_col = 'H_RelativeHumidity'\n",
    "weather_2018_df[clean_col].fillna(method='ffill',inplace=True)\n",
    "weather_2018_df[clean_col] = weather_2018_df[clean_col].apply(temp_func)\n",
    "weather_2018_df[clean_col] = weather_2018_df[clean_col].astype('float64')\n",
    "weather_2018_df[clean_col].unique()\n"
   ]
  },
  {
   "cell_type": "code",
   "execution_count": 22,
   "metadata": {},
   "outputs": [
    {
     "output_type": "execute_result",
     "data": {
      "text/plain": [
       "array([10.  ,  6.  ,  2.5 ,  1.75,  0.75,  0.5 ,  0.25,  0.  ,  5.  ,\n",
       "        4.  ,  8.  ,  9.  ,  2.  ,  7.  ,  1.  ,  3.  ,  1.25,  1.5 ])"
      ]
     },
     "metadata": {},
     "execution_count": 22
    }
   ],
   "source": [
    "def temp_func_V(x):\n",
    "    try:\n",
    "        float(x)\n",
    "        return x\n",
    "    except:\n",
    "        if x[-1] == 'V':\n",
    "            return x[:-1]\n",
    "\n",
    "# clean H_Visibility\n",
    "clean_col = 'H_Visibility'\n",
    "weather_2018_df[clean_col].fillna(method='ffill',inplace=True)\n",
    "weather_2018_df[clean_col] = weather_2018_df[clean_col].apply(temp_func_V)\n",
    "weather_2018_df[clean_col] = weather_2018_df[clean_col].astype('float64')\n",
    "weather_2018_df[clean_col].unique()"
   ]
  },
  {
   "cell_type": "code",
   "execution_count": 23,
   "metadata": {},
   "outputs": [
    {
     "output_type": "execute_result",
     "data": {
      "text/plain": [
       "array([ 9., 10.,  7.,  6.,  8.,  3.,  5., 11.,  0., 15., 13., 14., 21.,\n",
       "       17., 16., 18., 20.])"
      ]
     },
     "metadata": {},
     "execution_count": 23
    }
   ],
   "source": [
    "# clean H_WindSpeed\n",
    "clean_col = 'H_WindSpeed'\n",
    "# weather_2018_df[weather_2018_df[clean_col].isnull() == True]\n",
    "weather_2018_df[clean_col].fillna('0',inplace=True)\n",
    "weather_2018_df[clean_col] = weather_2018_df[clean_col].astype('float64')\n",
    "weather_2018_df[clean_col].unique()\n"
   ]
  },
  {
   "cell_type": "code",
   "execution_count": 24,
   "metadata": {},
   "outputs": [],
   "source": [
    "# clean 'Sunrise','Sunset'\n",
    "clean_col = ['Sunrise','Sunset']\n",
    "# weather_2018_df[weather_2018_df[clean_col].isnull() == True]\n",
    "for c in clean_col:\n",
    "    weather_2018_df[c].fillna(method='bfill',inplace=True)\n",
    "    weather_2018_df[c].fillna(method='ffill',inplace=True)"
   ]
  },
  {
   "source": [
    "## Cleaning Abbreviations"
   ],
   "cell_type": "markdown",
   "metadata": {}
  },
  {
   "cell_type": "code",
   "execution_count": 25,
   "metadata": {},
   "outputs": [
    {
     "output_type": "execute_result",
     "data": {
      "text/plain": [
       "array(['clear sky', 'broken clouds', 'overcast', 'scattered clouds',\n",
       "       'few clouds'], dtype=object)"
      ]
     },
     "metadata": {},
     "execution_count": 25
    }
   ],
   "source": [
    "sky_types = {\n",
    "    'CLR': 'clear sky',\n",
    "    'FEW': 'few clouds',\n",
    "    'SCT': 'scattered clouds',\n",
    "    'BKN': 'broken clouds',\n",
    "    'OVC': 'overcast'\n",
    "}\n",
    "\n",
    "def replace(x):\n",
    "    try:\n",
    "        for k,v in sky_types.items():\n",
    "            if k in x:\n",
    "                return v\n",
    "    except:\n",
    "        return x\n",
    "\n",
    "# clean H_SkyConditions\n",
    "clean_col = 'H_SkyConditions'\n",
    "weather_2018_df[clean_col] = weather_2018_df[clean_col].apply(replace)\n",
    "weather_2018_df[clean_col].fillna(method='ffill',inplace=True)\n",
    "weather_2018_df[clean_col].unique()"
   ]
  },
  {
   "cell_type": "code",
   "execution_count": 26,
   "metadata": {},
   "outputs": [
    {
     "output_type": "execute_result",
     "data": {
      "text/plain": [
       "array(['clear', 'Snow', 'Rain'], dtype=object)"
      ]
     },
     "metadata": {},
     "execution_count": 26
    }
   ],
   "source": [
    "weather_types = {\n",
    "    'DZ': 'Drizzle',\n",
    "    'RA': 'Rain',\n",
    "    'SN': 'Snow',\n",
    "    'SG': 'Snow',\n",
    "    'IC': 'Ice',\n",
    "    'PL': 'Ice',\n",
    "    'GR': 'Hail',\n",
    "    'GS': 'Small Hail',\n",
    "    'BR': 'Mist',\n",
    "    'FG': 'Fog',\n",
    "    'FU': 'Fog',\n",
    "    'VA': 'Volcanic Ash',\n",
    "    'DU': 'Dust',\n",
    "    'SA': 'Sand',\n",
    "    'HZ': 'Fog',\n",
    "    'PY': 'Spray',\n",
    "    'PO': 'Dust',\n",
    "    'SQ': 'Squalls',\n",
    "    'FC': 'Tornado',\n",
    "    'SS': 'Sandstorm',\n",
    "    'DS': 'Duststorm'\n",
    "}\n",
    "\n",
    "import re\n",
    "\n",
    "def clean_weather_type(x):\n",
    "    try:\n",
    "        match = re.match('[-+]\\w+', x)[0]\n",
    "        if x[0] == '-':\n",
    "            cond = 'light'\n",
    "        if x[0] == '+':\n",
    "            cond = 'heavy'\n",
    "        for k,v in weather_types.items():\n",
    "            if k in match:\n",
    "                return v\n",
    "    except:\n",
    "        return 'clear'\n",
    "\n",
    "\n",
    "# # clean H_PresentWeatherType\n",
    "clean_col = 'H_PresentWeatherType'\n",
    "weather_2018_df[clean_col] = weather_2018_df[clean_col].apply(clean_weather_type)\n",
    "weather_2018_df[clean_col].fillna('clear',inplace=True)\n",
    "weather_2018_df[clean_col].unique()"
   ]
  },
  {
   "cell_type": "code",
   "execution_count": 27,
   "metadata": {},
   "outputs": [
    {
     "output_type": "stream",
     "name": "stdout",
     "text": [
      "<class 'pandas.core.frame.DataFrame'>\nInt64Index: 5113 entries, 57038 to 62150\nData columns (total 12 columns):\n #   Column                 Non-Null Count  Dtype         \n---  ------                 --------------  -----         \n 0   Date                   5113 non-null   datetime64[ns]\n 1   H_PresentWeatherType   5113 non-null   object        \n 2   H_SkyConditions        5113 non-null   object        \n 3   H_DryBulbTemperature   5113 non-null   float64       \n 4   H_DewPointTemperature  5113 non-null   float64       \n 5   H_WetBulbTemperature   5113 non-null   float64       \n 6   H_Precipitation        5113 non-null   float64       \n 7   H_RelativeHumidity     5113 non-null   float64       \n 8   H_Visibility           5113 non-null   float64       \n 9   H_WindSpeed            5113 non-null   float64       \n 10  Sunrise                5113 non-null   float64       \n 11  Sunset                 5113 non-null   float64       \ndtypes: datetime64[ns](1), float64(9), object(2)\nmemory usage: 519.3+ KB\n"
     ]
    }
   ],
   "source": [
    "weather_2018_df.info()"
   ]
  },
  {
   "cell_type": "code",
   "execution_count": 31,
   "metadata": {},
   "outputs": [],
   "source": [
    "weather_2018_df.to_csv('../Datasets/NYC_Weather_Clean.csv',index=False)"
   ]
  },
  {
   "cell_type": "code",
   "execution_count": null,
   "metadata": {},
   "outputs": [],
   "source": []
  }
 ]
}
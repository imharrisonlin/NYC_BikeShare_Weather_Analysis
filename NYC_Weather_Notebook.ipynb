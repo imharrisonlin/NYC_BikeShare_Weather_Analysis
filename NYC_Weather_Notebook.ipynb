{
 "metadata": {
  "language_info": {
   "codemirror_mode": {
    "name": "ipython",
    "version": 3
   },
   "file_extension": ".py",
   "mimetype": "text/x-python",
   "name": "python",
   "nbconvert_exporter": "python",
   "pygments_lexer": "ipython3",
   "version": "3.8.5"
  },
  "orig_nbformat": 2,
  "kernelspec": {
   "name": "python385jvsc74a57bd00b389477ccc7535f93e4369920499466da4ad4c9225913346a61f818b9483721",
   "display_name": "Python 3.8.5 64-bit ('base': conda)"
  }
 },
 "nbformat": 4,
 "nbformat_minor": 2,
 "cells": [
  {
   "source": [
    "# Cleaning NYC Weather Data to populate google cloud sql (postgresm)"
   ],
   "cell_type": "markdown",
   "metadata": {}
  },
  {
   "cell_type": "code",
   "execution_count": 570,
   "metadata": {},
   "outputs": [],
   "source": [
    "import pandas as pd\n",
    "import numpy as np"
   ]
  },
  {
   "cell_type": "code",
   "execution_count": 571,
   "metadata": {},
   "outputs": [
    {
     "output_type": "stream",
     "name": "stderr",
     "text": [
      "C:\\Users\\imhar\\anaconda3\\lib\\site-packages\\IPython\\core\\interactiveshell.py:3146: DtypeWarning: Columns (5,7,8,11,14,30,31,33,41,42,43,49,51,75,89,123) have mixed types.Specify dtype option on import or set low_memory=False.\n  has_raised = await self.run_ast_nodes(code_ast.body, cell_name,\n"
     ]
    }
   ],
   "source": [
    "weather_df = pd.read_csv('NYC weather data.csv')"
   ]
  },
  {
   "cell_type": "code",
   "execution_count": 572,
   "metadata": {},
   "outputs": [
    {
     "output_type": "execute_result",
     "data": {
      "text/plain": [
       "       STATION                DATE REPORT_TYPE  SOURCE  AWND BackupDirection  \\\n",
       "0  72505394728 2013-01-01 00:51:00       FM-15       7   NaN             ESE   \n",
       "1  72505394728 2013-01-01 01:51:00       FM-15       7   NaN             ESE   \n",
       "2  72505394728 2013-01-01 02:51:00       FM-15       7   NaN             ESE   \n",
       "3  72505394728 2013-01-01 03:51:00       FM-15       7   NaN             ESE   \n",
       "4  72505394728 2013-01-01 04:51:00       FM-15       7   NaN             ESE   \n",
       "\n",
       "   BackupDistance BackupDistanceUnit BackupElements  BackupElevation  ...  \\\n",
       "0             0.5                 mi           SNOW              NaN  ...   \n",
       "1             0.5                 mi           SNOW              NaN  ...   \n",
       "2             0.5                 mi           SNOW              NaN  ...   \n",
       "3             0.5                 mi           SNOW              NaN  ...   \n",
       "4             0.5                 mi           SNOW              NaN  ...   \n",
       "\n",
       "   ShortDurationPrecipitationValue060 ShortDurationPrecipitationValue080  \\\n",
       "0                                 NaN                                NaN   \n",
       "1                                 NaN                                NaN   \n",
       "2                                 NaN                                NaN   \n",
       "3                                 NaN                                NaN   \n",
       "4                                 NaN                                NaN   \n",
       "\n",
       "   ShortDurationPrecipitationValue100  ShortDurationPrecipitationValue120  \\\n",
       "0                                 NaN                                 NaN   \n",
       "1                                 NaN                                 NaN   \n",
       "2                                 NaN                                 NaN   \n",
       "3                                 NaN                                 NaN   \n",
       "4                                 NaN                                 NaN   \n",
       "\n",
       "  ShortDurationPrecipitationValue150  ShortDurationPrecipitationValue180  \\\n",
       "0                                NaN                                 NaN   \n",
       "1                                NaN                                 NaN   \n",
       "2                                NaN                                 NaN   \n",
       "3                                NaN                                 NaN   \n",
       "4                                NaN                                 NaN   \n",
       "\n",
       "   Sunrise  Sunset  TStorms  WindEquipmentChangeDate  \n",
       "0      NaN     NaN      NaN               2006-09-18  \n",
       "1      NaN     NaN      NaN               2006-09-18  \n",
       "2      NaN     NaN      NaN               2006-09-18  \n",
       "3      NaN     NaN      NaN               2006-09-18  \n",
       "4      NaN     NaN      NaN               2006-09-18  \n",
       "\n",
       "[5 rows x 124 columns]"
      ],
      "text/html": "<div>\n<style scoped>\n    .dataframe tbody tr th:only-of-type {\n        vertical-align: middle;\n    }\n\n    .dataframe tbody tr th {\n        vertical-align: top;\n    }\n\n    .dataframe thead th {\n        text-align: right;\n    }\n</style>\n<table border=\"1\" class=\"dataframe\">\n  <thead>\n    <tr style=\"text-align: right;\">\n      <th></th>\n      <th>STATION</th>\n      <th>DATE</th>\n      <th>REPORT_TYPE</th>\n      <th>SOURCE</th>\n      <th>AWND</th>\n      <th>BackupDirection</th>\n      <th>BackupDistance</th>\n      <th>BackupDistanceUnit</th>\n      <th>BackupElements</th>\n      <th>BackupElevation</th>\n      <th>...</th>\n      <th>ShortDurationPrecipitationValue060</th>\n      <th>ShortDurationPrecipitationValue080</th>\n      <th>ShortDurationPrecipitationValue100</th>\n      <th>ShortDurationPrecipitationValue120</th>\n      <th>ShortDurationPrecipitationValue150</th>\n      <th>ShortDurationPrecipitationValue180</th>\n      <th>Sunrise</th>\n      <th>Sunset</th>\n      <th>TStorms</th>\n      <th>WindEquipmentChangeDate</th>\n    </tr>\n  </thead>\n  <tbody>\n    <tr>\n      <th>0</th>\n      <td>72505394728</td>\n      <td>2013-01-01 00:51:00</td>\n      <td>FM-15</td>\n      <td>7</td>\n      <td>NaN</td>\n      <td>ESE</td>\n      <td>0.5</td>\n      <td>mi</td>\n      <td>SNOW</td>\n      <td>NaN</td>\n      <td>...</td>\n      <td>NaN</td>\n      <td>NaN</td>\n      <td>NaN</td>\n      <td>NaN</td>\n      <td>NaN</td>\n      <td>NaN</td>\n      <td>NaN</td>\n      <td>NaN</td>\n      <td>NaN</td>\n      <td>2006-09-18</td>\n    </tr>\n    <tr>\n      <th>1</th>\n      <td>72505394728</td>\n      <td>2013-01-01 01:51:00</td>\n      <td>FM-15</td>\n      <td>7</td>\n      <td>NaN</td>\n      <td>ESE</td>\n      <td>0.5</td>\n      <td>mi</td>\n      <td>SNOW</td>\n      <td>NaN</td>\n      <td>...</td>\n      <td>NaN</td>\n      <td>NaN</td>\n      <td>NaN</td>\n      <td>NaN</td>\n      <td>NaN</td>\n      <td>NaN</td>\n      <td>NaN</td>\n      <td>NaN</td>\n      <td>NaN</td>\n      <td>2006-09-18</td>\n    </tr>\n    <tr>\n      <th>2</th>\n      <td>72505394728</td>\n      <td>2013-01-01 02:51:00</td>\n      <td>FM-15</td>\n      <td>7</td>\n      <td>NaN</td>\n      <td>ESE</td>\n      <td>0.5</td>\n      <td>mi</td>\n      <td>SNOW</td>\n      <td>NaN</td>\n      <td>...</td>\n      <td>NaN</td>\n      <td>NaN</td>\n      <td>NaN</td>\n      <td>NaN</td>\n      <td>NaN</td>\n      <td>NaN</td>\n      <td>NaN</td>\n      <td>NaN</td>\n      <td>NaN</td>\n      <td>2006-09-18</td>\n    </tr>\n    <tr>\n      <th>3</th>\n      <td>72505394728</td>\n      <td>2013-01-01 03:51:00</td>\n      <td>FM-15</td>\n      <td>7</td>\n      <td>NaN</td>\n      <td>ESE</td>\n      <td>0.5</td>\n      <td>mi</td>\n      <td>SNOW</td>\n      <td>NaN</td>\n      <td>...</td>\n      <td>NaN</td>\n      <td>NaN</td>\n      <td>NaN</td>\n      <td>NaN</td>\n      <td>NaN</td>\n      <td>NaN</td>\n      <td>NaN</td>\n      <td>NaN</td>\n      <td>NaN</td>\n      <td>2006-09-18</td>\n    </tr>\n    <tr>\n      <th>4</th>\n      <td>72505394728</td>\n      <td>2013-01-01 04:51:00</td>\n      <td>FM-15</td>\n      <td>7</td>\n      <td>NaN</td>\n      <td>ESE</td>\n      <td>0.5</td>\n      <td>mi</td>\n      <td>SNOW</td>\n      <td>NaN</td>\n      <td>...</td>\n      <td>NaN</td>\n      <td>NaN</td>\n      <td>NaN</td>\n      <td>NaN</td>\n      <td>NaN</td>\n      <td>NaN</td>\n      <td>NaN</td>\n      <td>NaN</td>\n      <td>NaN</td>\n      <td>2006-09-18</td>\n    </tr>\n  </tbody>\n</table>\n<p>5 rows × 124 columns</p>\n</div>"
     },
     "metadata": {},
     "execution_count": 572
    }
   ],
   "source": [
    "weather_df['DATE'] = pd.to_datetime(weather_df['DATE'])\n",
    "weather_df.head()"
   ]
  },
  {
   "cell_type": "code",
   "execution_count": 573,
   "metadata": {},
   "outputs": [
    {
     "output_type": "execute_result",
     "data": {
      "text/plain": [
       "           STATION                DATE REPORT_TYPE  SOURCE  AWND  \\\n",
       "57038  72505394728 2018-01-01 00:51:00       FM-15       7   NaN   \n",
       "57039  72505394728 2018-01-01 01:51:00       FM-15       7   NaN   \n",
       "57040  72505394728 2018-01-01 02:51:00       FM-15       7   NaN   \n",
       "57041  72505394728 2018-01-01 03:51:00       FM-15       7   NaN   \n",
       "57042  72505394728 2018-01-01 04:51:00       FM-15       7   NaN   \n",
       "\n",
       "      BackupDirection  BackupDistance BackupDistanceUnit BackupElements  \\\n",
       "57038             NaN             NaN                NaN            NaN   \n",
       "57039             NaN             NaN                NaN            NaN   \n",
       "57040             NaN             NaN                NaN            NaN   \n",
       "57041             NaN             NaN                NaN            NaN   \n",
       "57042             NaN             NaN                NaN            NaN   \n",
       "\n",
       "       BackupElevation  ...  ShortDurationPrecipitationValue060  \\\n",
       "57038              NaN  ...                                 NaN   \n",
       "57039              NaN  ...                                 NaN   \n",
       "57040              NaN  ...                                 NaN   \n",
       "57041              NaN  ...                                 NaN   \n",
       "57042              NaN  ...                                 NaN   \n",
       "\n",
       "      ShortDurationPrecipitationValue080  ShortDurationPrecipitationValue100  \\\n",
       "57038                                NaN                                 NaN   \n",
       "57039                                NaN                                 NaN   \n",
       "57040                                NaN                                 NaN   \n",
       "57041                                NaN                                 NaN   \n",
       "57042                                NaN                                 NaN   \n",
       "\n",
       "       ShortDurationPrecipitationValue120 ShortDurationPrecipitationValue150  \\\n",
       "57038                                 NaN                                NaN   \n",
       "57039                                 NaN                                NaN   \n",
       "57040                                 NaN                                NaN   \n",
       "57041                                 NaN                                NaN   \n",
       "57042                                 NaN                                NaN   \n",
       "\n",
       "       ShortDurationPrecipitationValue180  Sunrise  Sunset  TStorms  \\\n",
       "57038                                 NaN      NaN     NaN      NaN   \n",
       "57039                                 NaN      NaN     NaN      NaN   \n",
       "57040                                 NaN      NaN     NaN      NaN   \n",
       "57041                                 NaN      NaN     NaN      NaN   \n",
       "57042                                 NaN      NaN     NaN      NaN   \n",
       "\n",
       "       WindEquipmentChangeDate  \n",
       "57038                      NaN  \n",
       "57039                      NaN  \n",
       "57040                      NaN  \n",
       "57041                      NaN  \n",
       "57042                      NaN  \n",
       "\n",
       "[5 rows x 124 columns]"
      ],
      "text/html": "<div>\n<style scoped>\n    .dataframe tbody tr th:only-of-type {\n        vertical-align: middle;\n    }\n\n    .dataframe tbody tr th {\n        vertical-align: top;\n    }\n\n    .dataframe thead th {\n        text-align: right;\n    }\n</style>\n<table border=\"1\" class=\"dataframe\">\n  <thead>\n    <tr style=\"text-align: right;\">\n      <th></th>\n      <th>STATION</th>\n      <th>DATE</th>\n      <th>REPORT_TYPE</th>\n      <th>SOURCE</th>\n      <th>AWND</th>\n      <th>BackupDirection</th>\n      <th>BackupDistance</th>\n      <th>BackupDistanceUnit</th>\n      <th>BackupElements</th>\n      <th>BackupElevation</th>\n      <th>...</th>\n      <th>ShortDurationPrecipitationValue060</th>\n      <th>ShortDurationPrecipitationValue080</th>\n      <th>ShortDurationPrecipitationValue100</th>\n      <th>ShortDurationPrecipitationValue120</th>\n      <th>ShortDurationPrecipitationValue150</th>\n      <th>ShortDurationPrecipitationValue180</th>\n      <th>Sunrise</th>\n      <th>Sunset</th>\n      <th>TStorms</th>\n      <th>WindEquipmentChangeDate</th>\n    </tr>\n  </thead>\n  <tbody>\n    <tr>\n      <th>57038</th>\n      <td>72505394728</td>\n      <td>2018-01-01 00:51:00</td>\n      <td>FM-15</td>\n      <td>7</td>\n      <td>NaN</td>\n      <td>NaN</td>\n      <td>NaN</td>\n      <td>NaN</td>\n      <td>NaN</td>\n      <td>NaN</td>\n      <td>...</td>\n      <td>NaN</td>\n      <td>NaN</td>\n      <td>NaN</td>\n      <td>NaN</td>\n      <td>NaN</td>\n      <td>NaN</td>\n      <td>NaN</td>\n      <td>NaN</td>\n      <td>NaN</td>\n      <td>NaN</td>\n    </tr>\n    <tr>\n      <th>57039</th>\n      <td>72505394728</td>\n      <td>2018-01-01 01:51:00</td>\n      <td>FM-15</td>\n      <td>7</td>\n      <td>NaN</td>\n      <td>NaN</td>\n      <td>NaN</td>\n      <td>NaN</td>\n      <td>NaN</td>\n      <td>NaN</td>\n      <td>...</td>\n      <td>NaN</td>\n      <td>NaN</td>\n      <td>NaN</td>\n      <td>NaN</td>\n      <td>NaN</td>\n      <td>NaN</td>\n      <td>NaN</td>\n      <td>NaN</td>\n      <td>NaN</td>\n      <td>NaN</td>\n    </tr>\n    <tr>\n      <th>57040</th>\n      <td>72505394728</td>\n      <td>2018-01-01 02:51:00</td>\n      <td>FM-15</td>\n      <td>7</td>\n      <td>NaN</td>\n      <td>NaN</td>\n      <td>NaN</td>\n      <td>NaN</td>\n      <td>NaN</td>\n      <td>NaN</td>\n      <td>...</td>\n      <td>NaN</td>\n      <td>NaN</td>\n      <td>NaN</td>\n      <td>NaN</td>\n      <td>NaN</td>\n      <td>NaN</td>\n      <td>NaN</td>\n      <td>NaN</td>\n      <td>NaN</td>\n      <td>NaN</td>\n    </tr>\n    <tr>\n      <th>57041</th>\n      <td>72505394728</td>\n      <td>2018-01-01 03:51:00</td>\n      <td>FM-15</td>\n      <td>7</td>\n      <td>NaN</td>\n      <td>NaN</td>\n      <td>NaN</td>\n      <td>NaN</td>\n      <td>NaN</td>\n      <td>NaN</td>\n      <td>...</td>\n      <td>NaN</td>\n      <td>NaN</td>\n      <td>NaN</td>\n      <td>NaN</td>\n      <td>NaN</td>\n      <td>NaN</td>\n      <td>NaN</td>\n      <td>NaN</td>\n      <td>NaN</td>\n      <td>NaN</td>\n    </tr>\n    <tr>\n      <th>57042</th>\n      <td>72505394728</td>\n      <td>2018-01-01 04:51:00</td>\n      <td>FM-15</td>\n      <td>7</td>\n      <td>NaN</td>\n      <td>NaN</td>\n      <td>NaN</td>\n      <td>NaN</td>\n      <td>NaN</td>\n      <td>NaN</td>\n      <td>...</td>\n      <td>NaN</td>\n      <td>NaN</td>\n      <td>NaN</td>\n      <td>NaN</td>\n      <td>NaN</td>\n      <td>NaN</td>\n      <td>NaN</td>\n      <td>NaN</td>\n      <td>NaN</td>\n      <td>NaN</td>\n    </tr>\n  </tbody>\n</table>\n<p>5 rows × 124 columns</p>\n</div>"
     },
     "metadata": {},
     "execution_count": 573
    }
   ],
   "source": [
    "weather_2018_df = weather_df[(weather_df['DATE'] >= '2018-01-01') & (weather_df['DATE'] < '2018-06-01')]\n",
    "weather_2018_df.head()"
   ]
  },
  {
   "cell_type": "code",
   "execution_count": 574,
   "metadata": {},
   "outputs": [
    {
     "output_type": "execute_result",
     "data": {
      "text/plain": [
       "                     Date H_PresentWeatherType H_SkyConditions  \\\n",
       "57038 2018-01-01 00:51:00                  NaN          CLR:00   \n",
       "57039 2018-01-01 01:51:00                  NaN          CLR:00   \n",
       "57040 2018-01-01 02:51:00                  NaN          CLR:00   \n",
       "57041 2018-01-01 03:51:00                  NaN          CLR:00   \n",
       "57042 2018-01-01 04:51:00                  NaN          CLR:00   \n",
       "...                   ...                  ...             ...   \n",
       "62146 2018-05-31 21:51:00              BR:1 ||        OVC:08 3   \n",
       "62147 2018-05-31 22:51:00              BR:1 ||        OVC:08 3   \n",
       "62148 2018-05-31 23:51:00              BR:1 ||        OVC:08 2   \n",
       "62149 2018-05-31 23:59:00                  NaN             NaN   \n",
       "62150 2018-05-31 23:59:00                  NaN             NaN   \n",
       "\n",
       "      H_DryBulbTemperature H_DewPointTemperature  H_WetBulbTemperature  \\\n",
       "57038                    9                    -4                   7.0   \n",
       "57039                    9                    -4                   7.0   \n",
       "57040                    8                    -4                   6.0   \n",
       "57041                    8                    -5                   6.0   \n",
       "57042                    8                    -5                   6.0   \n",
       "...                    ...                   ...                   ...   \n",
       "62146                   65                    64                  64.0   \n",
       "62147                   66                    64                  65.0   \n",
       "62148                   65                    64                  64.0   \n",
       "62149                  NaN                   NaN                   NaN   \n",
       "62150                  NaN                   NaN                   NaN   \n",
       "\n",
       "      H_Precipitation  H_RelativeHumidity H_Visibility  H_WindSpeed  Sunrise  \\\n",
       "57038            0.00                55.0        10.00          9.0      NaN   \n",
       "57039            0.00                55.0        10.00         10.0      NaN   \n",
       "57040            0.00                57.0        10.00         10.0      NaN   \n",
       "57041            0.00                55.0        10.00          7.0      NaN   \n",
       "57042            0.00                55.0        10.00          9.0      NaN   \n",
       "...               ...                 ...          ...          ...      ...   \n",
       "62146            0.00                97.0         3.00          0.0      NaN   \n",
       "62147            0.00                93.0         3.00          0.0      NaN   \n",
       "62148            0.00                97.0         3.00          0.0      NaN   \n",
       "62149             NaN                 NaN          NaN          NaN    427.0   \n",
       "62150             NaN                 NaN          NaN          NaN      NaN   \n",
       "\n",
       "       Sunset  \n",
       "57038     NaN  \n",
       "57039     NaN  \n",
       "57040     NaN  \n",
       "57041     NaN  \n",
       "57042     NaN  \n",
       "...       ...  \n",
       "62146     NaN  \n",
       "62147     NaN  \n",
       "62148     NaN  \n",
       "62149  1920.0  \n",
       "62150     NaN  \n",
       "\n",
       "[5113 rows x 12 columns]"
      ],
      "text/html": "<div>\n<style scoped>\n    .dataframe tbody tr th:only-of-type {\n        vertical-align: middle;\n    }\n\n    .dataframe tbody tr th {\n        vertical-align: top;\n    }\n\n    .dataframe thead th {\n        text-align: right;\n    }\n</style>\n<table border=\"1\" class=\"dataframe\">\n  <thead>\n    <tr style=\"text-align: right;\">\n      <th></th>\n      <th>Date</th>\n      <th>H_PresentWeatherType</th>\n      <th>H_SkyConditions</th>\n      <th>H_DryBulbTemperature</th>\n      <th>H_DewPointTemperature</th>\n      <th>H_WetBulbTemperature</th>\n      <th>H_Precipitation</th>\n      <th>H_RelativeHumidity</th>\n      <th>H_Visibility</th>\n      <th>H_WindSpeed</th>\n      <th>Sunrise</th>\n      <th>Sunset</th>\n    </tr>\n  </thead>\n  <tbody>\n    <tr>\n      <th>57038</th>\n      <td>2018-01-01 00:51:00</td>\n      <td>NaN</td>\n      <td>CLR:00</td>\n      <td>9</td>\n      <td>-4</td>\n      <td>7.0</td>\n      <td>0.00</td>\n      <td>55.0</td>\n      <td>10.00</td>\n      <td>9.0</td>\n      <td>NaN</td>\n      <td>NaN</td>\n    </tr>\n    <tr>\n      <th>57039</th>\n      <td>2018-01-01 01:51:00</td>\n      <td>NaN</td>\n      <td>CLR:00</td>\n      <td>9</td>\n      <td>-4</td>\n      <td>7.0</td>\n      <td>0.00</td>\n      <td>55.0</td>\n      <td>10.00</td>\n      <td>10.0</td>\n      <td>NaN</td>\n      <td>NaN</td>\n    </tr>\n    <tr>\n      <th>57040</th>\n      <td>2018-01-01 02:51:00</td>\n      <td>NaN</td>\n      <td>CLR:00</td>\n      <td>8</td>\n      <td>-4</td>\n      <td>6.0</td>\n      <td>0.00</td>\n      <td>57.0</td>\n      <td>10.00</td>\n      <td>10.0</td>\n      <td>NaN</td>\n      <td>NaN</td>\n    </tr>\n    <tr>\n      <th>57041</th>\n      <td>2018-01-01 03:51:00</td>\n      <td>NaN</td>\n      <td>CLR:00</td>\n      <td>8</td>\n      <td>-5</td>\n      <td>6.0</td>\n      <td>0.00</td>\n      <td>55.0</td>\n      <td>10.00</td>\n      <td>7.0</td>\n      <td>NaN</td>\n      <td>NaN</td>\n    </tr>\n    <tr>\n      <th>57042</th>\n      <td>2018-01-01 04:51:00</td>\n      <td>NaN</td>\n      <td>CLR:00</td>\n      <td>8</td>\n      <td>-5</td>\n      <td>6.0</td>\n      <td>0.00</td>\n      <td>55.0</td>\n      <td>10.00</td>\n      <td>9.0</td>\n      <td>NaN</td>\n      <td>NaN</td>\n    </tr>\n    <tr>\n      <th>...</th>\n      <td>...</td>\n      <td>...</td>\n      <td>...</td>\n      <td>...</td>\n      <td>...</td>\n      <td>...</td>\n      <td>...</td>\n      <td>...</td>\n      <td>...</td>\n      <td>...</td>\n      <td>...</td>\n      <td>...</td>\n    </tr>\n    <tr>\n      <th>62146</th>\n      <td>2018-05-31 21:51:00</td>\n      <td>BR:1 ||</td>\n      <td>OVC:08 3</td>\n      <td>65</td>\n      <td>64</td>\n      <td>64.0</td>\n      <td>0.00</td>\n      <td>97.0</td>\n      <td>3.00</td>\n      <td>0.0</td>\n      <td>NaN</td>\n      <td>NaN</td>\n    </tr>\n    <tr>\n      <th>62147</th>\n      <td>2018-05-31 22:51:00</td>\n      <td>BR:1 ||</td>\n      <td>OVC:08 3</td>\n      <td>66</td>\n      <td>64</td>\n      <td>65.0</td>\n      <td>0.00</td>\n      <td>93.0</td>\n      <td>3.00</td>\n      <td>0.0</td>\n      <td>NaN</td>\n      <td>NaN</td>\n    </tr>\n    <tr>\n      <th>62148</th>\n      <td>2018-05-31 23:51:00</td>\n      <td>BR:1 ||</td>\n      <td>OVC:08 2</td>\n      <td>65</td>\n      <td>64</td>\n      <td>64.0</td>\n      <td>0.00</td>\n      <td>97.0</td>\n      <td>3.00</td>\n      <td>0.0</td>\n      <td>NaN</td>\n      <td>NaN</td>\n    </tr>\n    <tr>\n      <th>62149</th>\n      <td>2018-05-31 23:59:00</td>\n      <td>NaN</td>\n      <td>NaN</td>\n      <td>NaN</td>\n      <td>NaN</td>\n      <td>NaN</td>\n      <td>NaN</td>\n      <td>NaN</td>\n      <td>NaN</td>\n      <td>NaN</td>\n      <td>427.0</td>\n      <td>1920.0</td>\n    </tr>\n    <tr>\n      <th>62150</th>\n      <td>2018-05-31 23:59:00</td>\n      <td>NaN</td>\n      <td>NaN</td>\n      <td>NaN</td>\n      <td>NaN</td>\n      <td>NaN</td>\n      <td>NaN</td>\n      <td>NaN</td>\n      <td>NaN</td>\n      <td>NaN</td>\n      <td>NaN</td>\n      <td>NaN</td>\n    </tr>\n  </tbody>\n</table>\n<p>5113 rows × 12 columns</p>\n</div>"
     },
     "metadata": {},
     "execution_count": 574
    }
   ],
   "source": [
    "# Get desired columns\n",
    "new_cols = {\n",
    "    'DATE': 'Date',\n",
    "    'HourlyPresentWeatherType': 'H_PresentWeatherType',\n",
    "    'HourlySkyConditions': 'H_SkyConditions',\n",
    "    'HourlyDryBulbTemperature': 'H_DryBulbTemperature',\n",
    "    'HourlyDewPointTemperature': 'H_DewPointTemperature',\n",
    "    'HourlyWetBulbTemperature': 'H_WetBulbTemperature',\n",
    "    'HourlyPrecipitation': 'H_Precipitation',\n",
    "    'HourlyRelativeHumidity': 'H_RelativeHumidity',\n",
    "    'HourlyVisibility': 'H_Visibility',\n",
    "    'HourlyWindSpeed': 'H_WindSpeed',\n",
    "    'Sunrise': 'Sunrise',\n",
    "    'Sunset': 'Sunset',\n",
    "}\n",
    "cols = list(new_cols.keys())\n",
    "weather_2018_df = weather_2018_df[cols]\n",
    "weather_2018_df.rename(new_cols,axis=1,inplace=True)\n",
    "weather_2018_df"
   ]
  },
  {
   "cell_type": "code",
   "execution_count": 575,
   "metadata": {},
   "outputs": [
    {
     "output_type": "execute_result",
     "data": {
      "text/plain": [
       "['Date',\n",
       " 'H_PresentWeatherType',\n",
       " 'H_SkyConditions',\n",
       " 'H_DryBulbTemperature',\n",
       " 'H_DewPointTemperature',\n",
       " 'H_WetBulbTemperature',\n",
       " 'H_Precipitation',\n",
       " 'H_RelativeHumidity',\n",
       " 'H_Visibility',\n",
       " 'H_WindSpeed',\n",
       " 'Sunrise',\n",
       " 'Sunset']"
      ]
     },
     "metadata": {},
     "execution_count": 575
    }
   ],
   "source": [
    "list(new_cols.values())"
   ]
  },
  {
   "cell_type": "code",
   "execution_count": 576,
   "metadata": {},
   "outputs": [
    {
     "output_type": "stream",
     "name": "stdout",
     "text": [
      "<class 'pandas.core.frame.DataFrame'>\nInt64Index: 5113 entries, 57038 to 62150\nData columns (total 12 columns):\n #   Column                 Non-Null Count  Dtype         \n---  ------                 --------------  -----         \n 0   Date                   5113 non-null   datetime64[ns]\n 1   H_PresentWeatherType   1661 non-null   object        \n 2   H_SkyConditions        4930 non-null   object        \n 3   H_DryBulbTemperature   4957 non-null   object        \n 4   H_DewPointTemperature  4957 non-null   object        \n 5   H_WetBulbTemperature   4952 non-null   float64       \n 6   H_Precipitation        4294 non-null   object        \n 7   H_RelativeHumidity     4957 non-null   float64       \n 8   H_Visibility           4957 non-null   object        \n 9   H_WindSpeed            4743 non-null   float64       \n 10  Sunrise                151 non-null    float64       \n 11  Sunset                 151 non-null    float64       \ndtypes: datetime64[ns](1), float64(5), object(6)\nmemory usage: 519.3+ KB\n"
     ]
    }
   ],
   "source": [
    "weather_2018_df.info()"
   ]
  },
  {
   "source": [
    "## Cleaning up non-float values"
   ],
   "cell_type": "markdown",
   "metadata": {}
  },
  {
   "cell_type": "code",
   "execution_count": 577,
   "metadata": {},
   "outputs": [
    {
     "output_type": "execute_result",
     "data": {
      "text/plain": [
       "                     Date H_PresentWeatherType H_SkyConditions  \\\n",
       "57038 2018-01-01 00:51:00                  NaN          CLR:00   \n",
       "57039 2018-01-01 01:51:00                  NaN          CLR:00   \n",
       "57040 2018-01-01 02:51:00                  NaN          CLR:00   \n",
       "57041 2018-01-01 03:51:00                  NaN          CLR:00   \n",
       "57042 2018-01-01 04:51:00                  NaN          CLR:00   \n",
       "\n",
       "      H_DryBulbTemperature H_DewPointTemperature  H_WetBulbTemperature  \\\n",
       "57038                    9                    -4                   7.0   \n",
       "57039                    9                    -4                   7.0   \n",
       "57040                    8                    -4                   6.0   \n",
       "57041                    8                    -5                   6.0   \n",
       "57042                    8                    -5                   6.0   \n",
       "\n",
       "      H_Precipitation  H_RelativeHumidity H_Visibility  H_WindSpeed  Sunrise  \\\n",
       "57038            0.00                55.0        10.00          9.0      NaN   \n",
       "57039            0.00                55.0        10.00         10.0      NaN   \n",
       "57040            0.00                57.0        10.00         10.0      NaN   \n",
       "57041            0.00                55.0        10.00          7.0      NaN   \n",
       "57042            0.00                55.0        10.00          9.0      NaN   \n",
       "\n",
       "       Sunset  \n",
       "57038     NaN  \n",
       "57039     NaN  \n",
       "57040     NaN  \n",
       "57041     NaN  \n",
       "57042     NaN  "
      ],
      "text/html": "<div>\n<style scoped>\n    .dataframe tbody tr th:only-of-type {\n        vertical-align: middle;\n    }\n\n    .dataframe tbody tr th {\n        vertical-align: top;\n    }\n\n    .dataframe thead th {\n        text-align: right;\n    }\n</style>\n<table border=\"1\" class=\"dataframe\">\n  <thead>\n    <tr style=\"text-align: right;\">\n      <th></th>\n      <th>Date</th>\n      <th>H_PresentWeatherType</th>\n      <th>H_SkyConditions</th>\n      <th>H_DryBulbTemperature</th>\n      <th>H_DewPointTemperature</th>\n      <th>H_WetBulbTemperature</th>\n      <th>H_Precipitation</th>\n      <th>H_RelativeHumidity</th>\n      <th>H_Visibility</th>\n      <th>H_WindSpeed</th>\n      <th>Sunrise</th>\n      <th>Sunset</th>\n    </tr>\n  </thead>\n  <tbody>\n    <tr>\n      <th>57038</th>\n      <td>2018-01-01 00:51:00</td>\n      <td>NaN</td>\n      <td>CLR:00</td>\n      <td>9</td>\n      <td>-4</td>\n      <td>7.0</td>\n      <td>0.00</td>\n      <td>55.0</td>\n      <td>10.00</td>\n      <td>9.0</td>\n      <td>NaN</td>\n      <td>NaN</td>\n    </tr>\n    <tr>\n      <th>57039</th>\n      <td>2018-01-01 01:51:00</td>\n      <td>NaN</td>\n      <td>CLR:00</td>\n      <td>9</td>\n      <td>-4</td>\n      <td>7.0</td>\n      <td>0.00</td>\n      <td>55.0</td>\n      <td>10.00</td>\n      <td>10.0</td>\n      <td>NaN</td>\n      <td>NaN</td>\n    </tr>\n    <tr>\n      <th>57040</th>\n      <td>2018-01-01 02:51:00</td>\n      <td>NaN</td>\n      <td>CLR:00</td>\n      <td>8</td>\n      <td>-4</td>\n      <td>6.0</td>\n      <td>0.00</td>\n      <td>57.0</td>\n      <td>10.00</td>\n      <td>10.0</td>\n      <td>NaN</td>\n      <td>NaN</td>\n    </tr>\n    <tr>\n      <th>57041</th>\n      <td>2018-01-01 03:51:00</td>\n      <td>NaN</td>\n      <td>CLR:00</td>\n      <td>8</td>\n      <td>-5</td>\n      <td>6.0</td>\n      <td>0.00</td>\n      <td>55.0</td>\n      <td>10.00</td>\n      <td>7.0</td>\n      <td>NaN</td>\n      <td>NaN</td>\n    </tr>\n    <tr>\n      <th>57042</th>\n      <td>2018-01-01 04:51:00</td>\n      <td>NaN</td>\n      <td>CLR:00</td>\n      <td>8</td>\n      <td>-5</td>\n      <td>6.0</td>\n      <td>0.00</td>\n      <td>55.0</td>\n      <td>10.00</td>\n      <td>9.0</td>\n      <td>NaN</td>\n      <td>NaN</td>\n    </tr>\n  </tbody>\n</table>\n</div>"
     },
     "metadata": {},
     "execution_count": 577
    }
   ],
   "source": [
    "weather_2018_df.head()"
   ]
  },
  {
   "cell_type": "code",
   "execution_count": 578,
   "metadata": {},
   "outputs": [
    {
     "output_type": "stream",
     "name": "stdout",
     "text": [
      "<class 'pandas.core.frame.DataFrame'>\nInt64Index: 5113 entries, 57038 to 62150\nData columns (total 12 columns):\n #   Column                 Non-Null Count  Dtype         \n---  ------                 --------------  -----         \n 0   Date                   5113 non-null   datetime64[ns]\n 1   H_PresentWeatherType   1661 non-null   object        \n 2   H_SkyConditions        4930 non-null   object        \n 3   H_DryBulbTemperature   4957 non-null   object        \n 4   H_DewPointTemperature  4957 non-null   object        \n 5   H_WetBulbTemperature   4952 non-null   float64       \n 6   H_Precipitation        4294 non-null   object        \n 7   H_RelativeHumidity     4957 non-null   float64       \n 8   H_Visibility           4957 non-null   object        \n 9   H_WindSpeed            4743 non-null   float64       \n 10  Sunrise                151 non-null    float64       \n 11  Sunset                 151 non-null    float64       \ndtypes: datetime64[ns](1), float64(5), object(6)\nmemory usage: 519.3+ KB\n"
     ]
    }
   ],
   "source": [
    "weather_2018_df.info()"
   ]
  },
  {
   "cell_type": "code",
   "execution_count": 579,
   "metadata": {},
   "outputs": [],
   "source": [
    "raw_list = list(raw_dict.items())\n",
    "T = {'T': '0.005'}"
   ]
  },
  {
   "cell_type": "code",
   "execution_count": 580,
   "metadata": {},
   "outputs": [],
   "source": [
    "def check_str(x):\n",
    "    try:\n",
    "        float(x)\n",
    "    except:\n",
    "        return x"
   ]
  },
  {
   "cell_type": "code",
   "execution_count": 581,
   "metadata": {},
   "outputs": [],
   "source": [
    "def temp_func(x):\n",
    "    try:\n",
    "        float(x)\n",
    "        return x\n",
    "    except:    \n",
    "        if x == 'T':\n",
    "            return '0.005' \n",
    "        if x[-1] == 's':\n",
    "            return x[:-1]"
   ]
  },
  {
   "cell_type": "code",
   "execution_count": 582,
   "metadata": {},
   "outputs": [
    {
     "output_type": "execute_result",
     "data": {
      "text/plain": [
       "('H_PresentWeatherType',\n",
       " array([nan, '-SN:03 |SN |', 'SN:03 |SN s |', 'SN:03 FZ:8 FG:2 |FG SN |',\n",
       "        '-SN:03 FZ:8 FG:2 |FG SN |', '+SN:03 FZ:8 FG:2 |FG SN |',\n",
       "        'HZ:7 |FU |HZ', 'UP:09 ||', 'BR:1 ||', 'FG:2 |FG |',\n",
       "        '-RA:02 BR:1 |RA |', '-RA:02 |RA |', 'RA:02 BR:1 |RA |', '|SN |',\n",
       "        '-SN:03 BR:1 |SN |', '+RA:02 |RA |', 'HZ:7 ||HZ', 'RA:02 |RA |',\n",
       "        '+RA:02 BR:1 |RA |', 'UP:09 BR:1 ||', '-FZ:8 RA:02 BR:1 |FZRA |',\n",
       "        'FZ:8 RA:02 BR:1 |FZRA |', 'SN:03 FG:2 |FG SN |',\n",
       "        '+SN:03 FG:2 |FG SN |', '-RA:02 |RA |RA', 'RA:02 |RA |RA',\n",
       "        'RA:02 BR:1 |RA |RA', '-RA:02 BR:1 |RA |RA', '+RA:02 BR:1 |RA |RA',\n",
       "        '+RA:02 FG:2 |FG RA |RA', '+RA:02 |RA |RA', '|RA |'], dtype=object))"
      ]
     },
     "metadata": {},
     "execution_count": 582
    }
   ],
   "source": [
    "raw_list[2]"
   ]
  },
  {
   "cell_type": "code",
   "execution_count": 583,
   "metadata": {},
   "outputs": [
    {
     "output_type": "stream",
     "name": "stdout",
     "text": [
      "H_DryBulbTemperature\n[9.0 8.0 7.0 11.0 12.0 14.0 15.0 17.0 18.0 16.0 13.0 21.0 23.0 25.0 26.0\n 24.0 22.0 20.0 19.0 27.0 29.0 28.0 10.0 6.0 5.0 30.0 31.0 33.0 34.0 37.0\n 40.0 42.0 43.0 41.0 39.0 36.0 35.0 32.0 38.0 44.0 45.0 47.0 50.0 51.0\n 53.0 49.0 46.0 52.0 '49' '48' '47' '46' '45' '44' '52' '57' '59' '58'\n '56' '55' '60' '61' '54' '53' '51' '36' '35' '30' '28' '29' '32' '33'\n '31' '25' '24' '23' '22' '21' '20' '19' '17' '16' '15' '18' '26' '27'\n '34' '37' '38' '39' '40' '41' '42' '43' '50' '63' '65' '66' '67' '64'\n '62' '72' '74' '75' '77' '78' '73' '69' '80' '81' '82' '68' '71' '70'\n '76' '79' '83' '85' '87' '88' '89' '84' '90' '92' '91' '86']\nH_DewPointTemperature\n[ -4.  -5.  -3.  -6.  -2.   0.   2.   3.   1.   4.   5.   6.   7.  -1.\n  11.  12.   8.   9.  13.  18.  19.  20.  21.  17.  16.  14.  10.  -7.\n  -8.  -9. -10. -12. -13. -11.  22.  23.  24.  25.  26.  27.  28.  30.\n  31.  32.  33.  34.  36.  37.  35.  39.  43.  42.  44.  41.  46.  47.\n  48.  49.  45.  50.  56.  57.  55.  54.  53.  58.  59.  60.  52.  40.\n  29.  15.  38.  51.  69.  66.  65.  68.  64.  63.  62.  61.  67.]\nH_WetBulbTemperature\n[ 7.  6.  5.  8.  9. 11. 13. 12. 10. 15. 17. 19. 20. 21. 18. 16. 14. 22.\n 24. 23.  4.  3. 25. 26. 27. 28. 30. 31. 33. 34. 35. 32. 29. 36. 37. 38.\n 39. 40. 41. 43. 45. 47. 49. 46. 44. 48. 50. 51. 56. 58. 57. 55. 54. 59.\n 60. 53. 52. 42. 61. 62. 64. 65. 66. 63. 67. 68. 69. 70. 71. 73. 74. 72.\n 75.]\n"
     ]
    }
   ],
   "source": [
    "# clean H_DryBulbTemperature, H_DewPointTemperature\n",
    "# midnight values are nan, forward fill with last hour's temperature\n",
    "clean_col = ['H_DryBulbTemperature', 'H_DewPointTemperature', 'H_WetBulbTemperature']\n",
    "# weather_2018_df[weather_2018_df[clean_col].isnull() == True]\n",
    "for c in clean_col:\n",
    "    weather_2018_df[c].fillna(method='ffill',inplace=True)\n",
    "    weather_2018_df[c] = weather_2018_df[c].apply(temp_func)\n",
    "    print(c)\n",
    "    print(weather_2018_df[c].unique())\n",
    "    for i in weather_2018_df[c].unique():\n",
    "        if check_str(i) != None:\n",
    "            print(i)\n",
    "    weather_2018_df[c] = weather_2018_df[c].astype('float64')\n"
   ]
  },
  {
   "cell_type": "code",
   "execution_count": 584,
   "metadata": {},
   "outputs": [],
   "source": [
    "# clean H_Precipitation\n",
    "clean_col = 'H_Precipitation'\n",
    "weather_2018_df[clean_col].unique()\n",
    "# weather_2018_df[weather_2018_df[clean_col].isnull() == True]\n",
    "weather_2018_df[clean_col].fillna('0',inplace=True)\n",
    "weather_2018_df[clean_col] = weather_2018_df[c].apply(temp_func)\n",
    "weather_2018_df[clean_col] = weather_2018_df[clean_col].astype('float64')\n",
    "weather_2018_df[clean_col].unique()\n",
    "for i in weather_2018_df[clean_col].unique():\n",
    "    if check_str(i) != None:\n",
    "        print(i)"
   ]
  },
  {
   "cell_type": "code",
   "execution_count": 585,
   "metadata": {},
   "outputs": [
    {
     "output_type": "execute_result",
     "data": {
      "text/plain": [
       "array([ 7.,  6.,  5.,  8.,  9., 11., 13., 12., 10., 15., 17., 19., 20.,\n",
       "       21., 18., 16., 14., 22., 24., 23.,  4.,  3., 25., 26., 27., 28.,\n",
       "       30., 31., 33., 34., 35., 32., 29., 36., 37., 38., 39., 40., 41.,\n",
       "       43., 45., 47., 49., 46., 44., 48., 50., 51., 56., 58., 57., 55.,\n",
       "       54., 59., 60., 53., 52., 42., 61., 62., 64., 65., 66., 63., 67.,\n",
       "       68., 69., 70., 71., 73., 74., 72., 75.])"
      ]
     },
     "metadata": {},
     "execution_count": 585
    }
   ],
   "source": [
    "# clean H_Precipitation\n",
    "clean_col = 'H_RelativeHumidity'\n",
    "weather_2018_df[clean_col].fillna(method='ffill',inplace=True)\n",
    "weather_2018_df[clean_col] = weather_2018_df[c].apply(temp_func)\n",
    "weather_2018_df[clean_col] = weather_2018_df[clean_col].astype('float64')\n",
    "weather_2018_df[clean_col].unique()\n"
   ]
  },
  {
   "cell_type": "code",
   "execution_count": 586,
   "metadata": {},
   "outputs": [
    {
     "output_type": "execute_result",
     "data": {
      "text/plain": [
       "array([10.  ,  6.  ,  2.5 ,  1.75,  0.75,  0.5 ,  0.25,  0.  ,  5.  ,\n",
       "        4.  ,  8.  ,  9.  ,  2.  ,  7.  ,  1.  ,  3.  ,  1.25,  1.5 ])"
      ]
     },
     "metadata": {},
     "execution_count": 586
    }
   ],
   "source": [
    "def temp_func_V(x):\n",
    "    try:\n",
    "        float(x)\n",
    "        return x\n",
    "    except:\n",
    "        if x[-1] == 'V':\n",
    "            return x[:-1]\n",
    "\n",
    "# clean H_Visibility\n",
    "clean_col = 'H_Visibility'\n",
    "weather_2018_df[clean_col].fillna(method='ffill',inplace=True)\n",
    "weather_2018_df[clean_col] = weather_2018_df[clean_col].apply(temp_func_V)\n",
    "weather_2018_df[clean_col] = weather_2018_df[clean_col].astype('float64')\n",
    "weather_2018_df[clean_col].unique()"
   ]
  },
  {
   "cell_type": "code",
   "execution_count": 587,
   "metadata": {},
   "outputs": [
    {
     "output_type": "execute_result",
     "data": {
      "text/plain": [
       "array([ 9., 10.,  7.,  6.,  8.,  3.,  5., 11.,  0., 15., 13., 14., 21.,\n",
       "       17., 16., 18., 20.])"
      ]
     },
     "metadata": {},
     "execution_count": 587
    }
   ],
   "source": [
    "# clean H_WindSpeed\n",
    "clean_col = 'H_WindSpeed'\n",
    "# weather_2018_df[weather_2018_df[clean_col].isnull() == True]\n",
    "weather_2018_df[clean_col].fillna('0',inplace=True)\n",
    "weather_2018_df[clean_col] = weather_2018_df[clean_col].astype('float64')\n",
    "weather_2018_df[clean_col].unique()\n"
   ]
  },
  {
   "cell_type": "code",
   "execution_count": 588,
   "metadata": {},
   "outputs": [],
   "source": [
    "# clean 'Sunrise','Sunset'\n",
    "clean_col = ['Sunrise','Sunset']\n",
    "# weather_2018_df[weather_2018_df[clean_col].isnull() == True]\n",
    "for c in clean_col:\n",
    "    weather_2018_df[c].fillna(method='bfill',inplace=True)\n",
    "    weather_2018_df[c].fillna(method='ffill',inplace=True)"
   ]
  },
  {
   "source": [
    "## Cleaning Abbreviations"
   ],
   "cell_type": "markdown",
   "metadata": {}
  },
  {
   "cell_type": "code",
   "execution_count": 589,
   "metadata": {},
   "outputs": [
    {
     "output_type": "execute_result",
     "data": {
      "text/plain": [
       "array(['clear sky', 'broken clouds', 'overcast', 'scattered clouds',\n",
       "       'few clouds'], dtype=object)"
      ]
     },
     "metadata": {},
     "execution_count": 589
    }
   ],
   "source": [
    "sky_types = {\n",
    "    'CLR': 'clear sky',\n",
    "    'FEW': 'few clouds',\n",
    "    'SCT': 'scattered clouds',\n",
    "    'BKN': 'broken clouds',\n",
    "    'OVC': 'overcast'\n",
    "}\n",
    "\n",
    "def replace(x):\n",
    "    try:\n",
    "        for k,v in sky_types.items():\n",
    "            if k in x:\n",
    "                return v\n",
    "    except:\n",
    "        return x\n",
    "\n",
    "# clean H_SkyConditions\n",
    "clean_col = 'H_SkyConditions'\n",
    "weather_2018_df[clean_col] = weather_2018_df[clean_col].apply(replace)\n",
    "weather_2018_df[clean_col].fillna(method='ffill',inplace=True)\n",
    "weather_2018_df[clean_col].unique()"
   ]
  },
  {
   "cell_type": "code",
   "execution_count": 590,
   "metadata": {},
   "outputs": [
    {
     "output_type": "execute_result",
     "data": {
      "text/plain": [
       "array(['clear', 'Snow', 'Rain'], dtype=object)"
      ]
     },
     "metadata": {},
     "execution_count": 590
    }
   ],
   "source": [
    "weather_types = {\n",
    "    'DZ': 'Drizzle',\n",
    "    'RA': 'Rain',\n",
    "    'SN': 'Snow',\n",
    "    'SG': 'Snow',\n",
    "    'IC': 'Ice',\n",
    "    'PL': 'Ice',\n",
    "    'GR': 'Hail',\n",
    "    'GS': 'Small Hail',\n",
    "    'BR': 'Mist',\n",
    "    'FG': 'Fog',\n",
    "    'FU': 'Fog',\n",
    "    'VA': 'Volcanic Ash',\n",
    "    'DU': 'Dust',\n",
    "    'SA': 'Sand',\n",
    "    'HZ': 'Fog',\n",
    "    'PY': 'Spray',\n",
    "    'PO': 'Dust',\n",
    "    'SQ': 'Squalls',\n",
    "    'FC': 'Tornado',\n",
    "    'SS': 'Sandstorm',\n",
    "    'DS': 'Duststorm'\n",
    "}\n",
    "\n",
    "import re\n",
    "\n",
    "def clean_weather_type(x):\n",
    "    try:\n",
    "        match = re.match('[-+]\\w+', x)[0]\n",
    "        if x[0] == '-':\n",
    "            cond = 'light'\n",
    "        if x[0] == '+':\n",
    "            cond = 'heavy'\n",
    "        for k,v in weather_types.items():\n",
    "            if k in match:\n",
    "                return v\n",
    "    except:\n",
    "        return 'clear'\n",
    "\n",
    "\n",
    "# # clean H_PresentWeatherType\n",
    "clean_col = 'H_PresentWeatherType'\n",
    "weather_2018_df[clean_col] = weather_2018_df[clean_col].apply(clean_weather_type)\n",
    "weather_2018_df[clean_col].fillna('clear',inplace=True)\n",
    "weather_2018_df[clean_col].unique()"
   ]
  },
  {
   "cell_type": "code",
   "execution_count": 591,
   "metadata": {},
   "outputs": [
    {
     "output_type": "stream",
     "name": "stdout",
     "text": [
      "<class 'pandas.core.frame.DataFrame'>\nInt64Index: 5113 entries, 57038 to 62150\nData columns (total 12 columns):\n #   Column                 Non-Null Count  Dtype         \n---  ------                 --------------  -----         \n 0   Date                   5113 non-null   datetime64[ns]\n 1   H_PresentWeatherType   5113 non-null   object        \n 2   H_SkyConditions        5113 non-null   object        \n 3   H_DryBulbTemperature   5113 non-null   float64       \n 4   H_DewPointTemperature  5113 non-null   float64       \n 5   H_WetBulbTemperature   5113 non-null   float64       \n 6   H_Precipitation        5113 non-null   float64       \n 7   H_RelativeHumidity     5113 non-null   float64       \n 8   H_Visibility           5113 non-null   float64       \n 9   H_WindSpeed            5113 non-null   float64       \n 10  Sunrise                5113 non-null   float64       \n 11  Sunset                 5113 non-null   float64       \ndtypes: datetime64[ns](1), float64(9), object(2)\nmemory usage: 519.3+ KB\n"
     ]
    }
   ],
   "source": [
    "weather_2018_df.info()"
   ]
  },
  {
   "cell_type": "code",
   "execution_count": 592,
   "metadata": {},
   "outputs": [],
   "source": [
    "weather_2018_df.to_csv('NYC_Weather_Jan_May_2018.csv',index=False)"
   ]
  },
  {
   "cell_type": "code",
   "execution_count": 593,
   "metadata": {},
   "outputs": [],
   "source": [
    "weather_2018_df.to_csv('NYC_Weather_Jan_May_2018_noheader.csv',header=False,index=False)"
   ]
  },
  {
   "cell_type": "code",
   "execution_count": null,
   "metadata": {},
   "outputs": [],
   "source": []
  }
 ]
}